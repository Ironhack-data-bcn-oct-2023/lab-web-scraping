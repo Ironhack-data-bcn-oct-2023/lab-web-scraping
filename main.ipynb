{
 "cells": [
  {
   "cell_type": "markdown",
   "metadata": {},
   "source": [
    "# Web Scraping Lab\n",
    "\n",
    "You will find in this notebook some scrapy exercises to practise your scraping skills.\n",
    "\n",
    "**Tips:**\n",
    "\n",
    "- Check the response status code for each request to ensure you have obtained the intended contennt.\n",
    "- Print the response text in each request to understand the kind of info you are getting and its format.\n",
    "- Check for patterns in the response text to extract the data/info requested in each question.\n",
    "- Visit each url and take a look at its source through Chrome DevTools. You'll need to identify the html tags, special class names etc. used for the html content you are expected to extract."
   ]
  },
  {
   "cell_type": "markdown",
   "metadata": {},
   "source": [
    "- [Requests library](http://docs.python-requests.org/en/master/#the-user-guide) documentation \n",
    "- [Beautiful Soup Doc](https://www.crummy.com/software/BeautifulSoup/bs4/doc/)\n",
    "- [Urllib](https://docs.python.org/3/library/urllib.html#module-urllib)\n",
    "- [re lib](https://docs.python.org/3/library/re.html)\n",
    "- [lxml lib](https://lxml.de/)\n",
    "- [Scrapy](https://scrapy.org/)\n",
    "- [List of HTTP status codes](https://en.wikipedia.org/wiki/List_of_HTTP_status_codes)\n",
    "- [HTML basics](http://www.simplehtmlguide.com/cheatsheet.php)\n",
    "- [CSS basics](https://www.cssbasics.com/#page_start)"
   ]
  },
  {
   "cell_type": "markdown",
   "metadata": {},
   "source": [
    "#### Below are the libraries and modules you may need. `requests`,  `BeautifulSoup` and `pandas` are imported for you. If you prefer to use additional libraries feel free to uncomment them."
   ]
  },
  {
   "cell_type": "code",
   "execution_count": 3,
   "metadata": {},
   "outputs": [],
   "source": [
    "import requests\n",
    "from bs4 import BeautifulSoup\n",
    "import pandas as pd\n",
    "# from pprint import pprint\n",
    "# from lxml import html\n",
    "# from lxml.html import fromstring\n",
    "# import urllib.request\n",
    "from urllib.request import urlopen\n",
    "# import random\n",
    "import re\n",
    "# import scrapy\n"
   ]
  },
  {
   "cell_type": "markdown",
   "metadata": {},
   "source": [
    "#### Download, parse (using BeautifulSoup), and print the content from the Trending Developers page from GitHub:"
   ]
  },
  {
   "cell_type": "code",
   "execution_count": 4,
   "metadata": {},
   "outputs": [],
   "source": [
    "# This is the url you will scrape in this exercise\n",
    "url = 'https://github.com/trending/developers'"
   ]
  },
  {
   "cell_type": "code",
   "execution_count": 5,
   "metadata": {},
   "outputs": [],
   "source": [
    "#your code\n",
    "res = requests.get(\"https://github.com/trending/developers\")\n",
    "soup = BeautifulSoup(res.content, 'html.parser')"
   ]
  },
  {
   "cell_type": "markdown",
   "metadata": {},
   "source": [
    "#### Display the names of the trending developers retrieved in the previous step.\n",
    "\n",
    "Your output should be a Python list of developer names. Each name should not contain any html tag.\n",
    "\n",
    "**Instructions:**\n",
    "\n",
    "1. Find out the html tag and class names used for the developer names. You can achieve this using Chrome DevTools.\n",
    "\n",
    "1. Use BeautifulSoup to extract all the html elements that contain the developer names.\n",
    "\n",
    "1. Use string manipulation techniques to replace whitespaces and linebreaks (i.e. `\\n`) in the *text* of each html element. Use a list to store the clean names.\n",
    "\n",
    "1. Print the list of names.\n",
    "\n",
    "Your output should look like below:\n",
    "\n",
    "```\n",
    "['trimstray (@trimstray)',\n",
    " 'joewalnes (JoeWalnes)',\n",
    " 'charlax (Charles-AxelDein)',\n",
    " 'ForrestKnight (ForrestKnight)',\n",
    " 'revery-ui (revery-ui)',\n",
    " 'alibaba (Alibaba)',\n",
    " 'Microsoft (Microsoft)',\n",
    " 'github (GitHub)',\n",
    " 'facebook (Facebook)',\n",
    " 'boazsegev (Bo)',\n",
    " 'google (Google)',\n",
    " 'cloudfetch',\n",
    " 'sindresorhus (SindreSorhus)',\n",
    " 'tensorflow',\n",
    " 'apache (TheApacheSoftwareFoundation)',\n",
    " 'DevonCrawford (DevonCrawford)',\n",
    " 'ARMmbed (ArmMbed)',\n",
    " 'vuejs (vuejs)',\n",
    " 'fastai (fast.ai)',\n",
    " 'QiShaoXuan (Qi)',\n",
    " 'joelparkerhenderson (JoelParkerHenderson)',\n",
    " 'torvalds (LinusTorvalds)',\n",
    " 'CyC2018',\n",
    " 'komeiji-satori (神楽坂覚々)',\n",
    " 'script-8']\n",
    " ```"
   ]
  },
  {
   "cell_type": "code",
   "execution_count": 6,
   "metadata": {},
   "outputs": [
    {
     "data": {
      "text/plain": [
       "['Olivier Halligon (AliSoftware)',\n",
       " 'Alon Zakai (kripken)',\n",
       " 'Ariel Mashraki (a8m)',\n",
       " 'Azure SDK Bot (azure-sdk)',\n",
       " 'Kieron Quinn (KieronQuinn)',\n",
       " 'Jonny Burger (JonnyBurger)',\n",
       " 'Ayush Chaurasia (AyushExel)',\n",
       " 'Roberto Butti (roberto-butti)',\n",
       " 'Costa Huang (vwxyzjn)',\n",
       " 'Alessandro Ros (aler9)',\n",
       " 'Kyle Barron (kylebarron)',\n",
       " 'Nikita Sobolev (sobolevn)',\n",
       " 'Meng Zhang (wsxiaoys)',\n",
       " 'Alex Rudenko (OrKoN)',\n",
       " 'Stanislas Polu (spolu)',\n",
       " 'R.I.Pienaar (ripienaar)',\n",
       " 'Lukas Masuch (LukasMasuch)',\n",
       " 'Alex Yang (himself65)',\n",
       " 'Wes Bos (wesbos)',\n",
       " 'Rosalie Wagner (RosaWagner)',\n",
       " 'Lovell Fuller (lovell)',\n",
       " 'Erick Wendel (ErickWendel)',\n",
       " 'Fatih Arslan (fatih)',\n",
       " 'pngwn (pngwn)',\n",
       " 'Matthew Feickert (matthewfeickert)']"
      ]
     },
     "execution_count": 6,
     "metadata": {},
     "output_type": "execute_result"
    }
   ],
   "source": [
    "#your code\n",
    "desc = soup.find_all(\"h1\", {\"class\": \"h3 lh-condensed\"})\n",
    "desc_1 = soup.find_all(\"a\", {\"class\": \"Link--secondary Link\"})\n",
    "\n",
    "description = desc[0].getText().strip()\n",
    "description_1 = desc_1[0].getText().strip()\n",
    "\n",
    "\n",
    "result_list = [f'{desc[i].getText().strip()} ({desc_1[i].getText().strip()})' for i in range(min(len(desc), len(desc_1)))]\n",
    "result_list\n"
   ]
  },
  {
   "cell_type": "markdown",
   "metadata": {},
   "source": [
    "#### Display the trending Python repositories in GitHub\n",
    "\n",
    "The steps to solve this problem is similar to the previous one except that you need to find out the repository names instead of developer names."
   ]
  },
  {
   "cell_type": "code",
   "execution_count": 7,
   "metadata": {},
   "outputs": [],
   "source": [
    "# This is the url you will scrape in this exercise\n",
    "url = 'https://github.com/trending/python?since=daily'"
   ]
  },
  {
   "cell_type": "code",
   "execution_count": 9,
   "metadata": {},
   "outputs": [
    {
     "data": {
      "text/plain": [
       "['public-apis / public-apis',\n",
       " 'SUDO-AI-3D / zero123plus',\n",
       " 's0md3v / roop',\n",
       " 'xlang-ai / OpenAgents',\n",
       " 'AI-Citizen / SolidGPT',\n",
       " 'psf / black',\n",
       " 'THUDM / AgentTuning',\n",
       " 'bregman-arie / devops-exercises',\n",
       " 'pyg-team / pytorch_geometric',\n",
       " 'bytedance / SALMONN',\n",
       " 'donnemartin / system-design-primer',\n",
       " 'N1k0la-T / CVE-2023-36745',\n",
       " 'firmai / financial-machine-learning',\n",
       " 'w-okada / voice-changer',\n",
       " 'horizon3ai / CVE-2023-34051',\n",
       " 'kyleskom / NBA-Machine-Learning-Sports-Betting',\n",
       " 'facebookresearch / seamless_communication',\n",
       " 'LAION-AI / Open-Assistant',\n",
       " 'danswer-ai / danswer',\n",
       " 'XingangPan / DragGAN',\n",
       " 'haotian-liu / LLaVA',\n",
       " 'iterative / dvc',\n",
       " 'mckinsey / vizro',\n",
       " 'astral-sh / ruff-pre-commit',\n",
       " 'eosphoros-ai / DB-GPT']"
      ]
     },
     "execution_count": 9,
     "metadata": {},
     "output_type": "execute_result"
    }
   ],
   "source": [
    "repos = soup1.find_all(\"h2\", {\"class\": \"h3 lh-condensed\"})\n",
    "repo = [i.getText().strip().replace(\"\\n\", \"\").replace(\"/     \", \"/\") for i in repos]\n",
    "repo"
   ]
  },
  {
   "cell_type": "code",
   "execution_count": null,
   "metadata": {},
   "outputs": [],
   "source": []
  },
  {
   "cell_type": "markdown",
   "metadata": {},
   "source": [
    "#### Display all the image links from Walt Disney wikipedia page"
   ]
  },
  {
   "cell_type": "code",
   "execution_count": 10,
   "metadata": {},
   "outputs": [],
   "source": [
    "# This is the url you will scrape in this exercise\n",
    "url = 'https://en.wikipedia.org/wiki/Walt_Disney'"
   ]
  },
  {
   "cell_type": "code",
   "execution_count": 11,
   "metadata": {},
   "outputs": [],
   "source": [
    "res2 = requests.get(url)\n",
    "soup2 = BeautifulSoup(res2.content, 'html.parser')"
   ]
  },
  {
   "cell_type": "code",
   "execution_count": 12,
   "metadata": {},
   "outputs": [
    {
     "data": {
      "text/plain": [
       "['https://en.wikipedia.org//static/images/icons/wikipedia.png',\n",
       " 'https://en.wikipedia.org//static/images/mobile/copyright/wikipedia-wordmark-en.svg',\n",
       " 'https://en.wikipedia.org//static/images/mobile/copyright/wikipedia-tagline-en.svg',\n",
       " 'https://en.wikipedia.org///upload.wikimedia.org/wikipedia/en/thumb/e/e7/Cscr-featured.svg/20px-Cscr-featured.svg.png',\n",
       " 'https://en.wikipedia.org///upload.wikimedia.org/wikipedia/en/thumb/8/8c/Extended-protection-shackle.svg/20px-Extended-protection-shackle.svg.png',\n",
       " 'https://en.wikipedia.org///upload.wikimedia.org/wikipedia/commons/thumb/d/df/Walt_Disney_1946.JPG/220px-Walt_Disney_1946.JPG',\n",
       " 'https://en.wikipedia.org///upload.wikimedia.org/wikipedia/commons/thumb/8/87/Walt_Disney_1942_signature.svg/150px-Walt_Disney_1942_signature.svg.png',\n",
       " 'https://en.wikipedia.org///upload.wikimedia.org/wikipedia/commons/thumb/3/3a/Walt_Disney_Birthplace_Exterior_Hermosa_Chicago_Illinois.jpg/220px-Walt_Disney_Birthplace_Exterior_Hermosa_Chicago_Illinois.jpg',\n",
       " 'https://en.wikipedia.org///upload.wikimedia.org/wikipedia/commons/thumb/c/c4/Walt_Disney_envelope_ca._1921.jpg/220px-Walt_Disney_envelope_ca._1921.jpg',\n",
       " 'https://en.wikipedia.org///upload.wikimedia.org/wikipedia/en/thumb/4/4e/Steamboat-willie.jpg/220px-Steamboat-willie.jpg',\n",
       " 'https://en.wikipedia.org///upload.wikimedia.org/wikipedia/commons/thumb/c/cd/Walt_Disney_Snow_white_1937_trailer_screenshot_%2813%29.jpg/220px-Walt_Disney_Snow_white_1937_trailer_screenshot_%2813%29.jpg',\n",
       " 'https://en.wikipedia.org///upload.wikimedia.org/wikipedia/commons/thumb/1/15/Disney_drawing_goofy.jpg/170px-Disney_drawing_goofy.jpg',\n",
       " 'https://en.wikipedia.org///upload.wikimedia.org/wikipedia/commons/thumb/8/8c/WaltDisneyplansDisneylandDec1954.jpg/220px-WaltDisneyplansDisneylandDec1954.jpg',\n",
       " 'https://en.wikipedia.org///upload.wikimedia.org/wikipedia/commons/thumb/f/ff/Walt_disney_portrait_right.jpg/170px-Walt_disney_portrait_right.jpg',\n",
       " 'https://en.wikipedia.org///upload.wikimedia.org/wikipedia/commons/thumb/1/1a/Walt_Disney_Grave.JPG/170px-Walt_Disney_Grave.JPG',\n",
       " 'https://en.wikipedia.org///upload.wikimedia.org/wikipedia/commons/thumb/1/1b/Nuvola_apps_kaboodle.svg/16px-Nuvola_apps_kaboodle.svg.png',\n",
       " 'https://en.wikipedia.org///upload.wikimedia.org/wikipedia/commons/thumb/1/13/DisneySchiphol1951.jpg/220px-DisneySchiphol1951.jpg',\n",
       " 'https://en.wikipedia.org///upload.wikimedia.org/wikipedia/commons/thumb/6/6c/Disney1968.jpg/170px-Disney1968.jpg',\n",
       " 'https://en.wikipedia.org///upload.wikimedia.org/wikipedia/commons/thumb/b/b0/Disney_Oscar_1953_%28cropped%29.jpg/170px-Disney_Oscar_1953_%28cropped%29.jpg',\n",
       " 'https://en.wikipedia.org///upload.wikimedia.org/wikipedia/en/thumb/4/4a/Commons-logo.svg/30px-Commons-logo.svg.png',\n",
       " 'https://en.wikipedia.org///upload.wikimedia.org/wikipedia/commons/thumb/4/4c/Wikisource-logo.svg/38px-Wikisource-logo.svg.png',\n",
       " 'https://en.wikipedia.org///upload.wikimedia.org/wikipedia/commons/thumb/f/fa/Wikiquote-logo.svg/34px-Wikiquote-logo.svg.png',\n",
       " 'https://en.wikipedia.org///upload.wikimedia.org/wikipedia/en/thumb/8/8a/OOjs_UI_icon_edit-ltr-progressive.svg/10px-OOjs_UI_icon_edit-ltr-progressive.svg.png',\n",
       " 'https://en.wikipedia.org///upload.wikimedia.org/wikipedia/en/thumb/8/8a/OOjs_UI_icon_edit-ltr-progressive.svg/10px-OOjs_UI_icon_edit-ltr-progressive.svg.png',\n",
       " 'https://en.wikipedia.org///upload.wikimedia.org/wikipedia/en/thumb/9/96/Symbol_category_class.svg/16px-Symbol_category_class.svg.png',\n",
       " 'https://en.wikipedia.org///upload.wikimedia.org/wikipedia/commons/thumb/e/e3/Disneyland_Resort_logo.svg/135px-Disneyland_Resort_logo.svg.png',\n",
       " 'https://en.wikipedia.org///upload.wikimedia.org/wikipedia/commons/thumb/d/da/Animation_disc.svg/20px-Animation_disc.svg.png',\n",
       " 'https://en.wikipedia.org///upload.wikimedia.org/wikipedia/en/thumb/6/69/P_vip.svg/19px-P_vip.svg.png',\n",
       " 'https://en.wikipedia.org///upload.wikimedia.org/wikipedia/commons/thumb/1/1a/Magic_Kingdom_castle.jpg/15px-Magic_Kingdom_castle.jpg',\n",
       " 'https://en.wikipedia.org///upload.wikimedia.org/wikipedia/en/thumb/e/e7/Video-x-generic.svg/19px-Video-x-generic.svg.png',\n",
       " 'https://en.wikipedia.org///upload.wikimedia.org/wikipedia/commons/thumb/a/a3/Flag_of_Los_Angeles_County%2C_California.svg/21px-Flag_of_Los_Angeles_County%2C_California.svg.png',\n",
       " 'https://en.wikipedia.org///upload.wikimedia.org/wikipedia/commons/thumb/8/8c/Blank_television_set.svg/21px-Blank_television_set.svg.png',\n",
       " 'https://en.wikipedia.org///upload.wikimedia.org/wikipedia/en/thumb/a/a4/Flag_of_the_United_States.svg/21px-Flag_of_the_United_States.svg.png',\n",
       " 'https://en.wikipedia.org///upload.wikimedia.org/wikipedia/en/thumb/8/8a/OOjs_UI_icon_edit-ltr-progressive.svg/10px-OOjs_UI_icon_edit-ltr-progressive.svg.png',\n",
       " 'https://en.wikipedia.org///en.wikipedia.org/wiki/Special:CentralAutoLogin/start?type=1x1',\n",
       " 'https://en.wikipedia.org//static/images/footer/wikimedia-button.png',\n",
       " 'https://en.wikipedia.org//static/images/footer/poweredby_mediawiki_88x31.png']"
      ]
     },
     "execution_count": 12,
     "metadata": {},
     "output_type": "execute_result"
    }
   ],
   "source": [
    "list_links = soup2.find_all(\"img\")\n",
    "list_links[0].get(\"src\")\n",
    "all_href = [\"https://en.wikipedia.org/\"+i.get(\"src\") for i in list_links]\n",
    "all_href"
   ]
  },
  {
   "cell_type": "markdown",
   "metadata": {},
   "source": [
    "#### Retrieve an arbitary Wikipedia page of \"Python\" and create a list of links on that page"
   ]
  },
  {
   "cell_type": "code",
   "execution_count": 30,
   "metadata": {},
   "outputs": [],
   "source": [
    "# This is the url you will scrape in this exercise\n",
    "url ='https://en.wikipedia.org/wiki/Python' \n",
    "res3 = requests.get(url)"
   ]
  },
  {
   "cell_type": "code",
   "execution_count": 43,
   "metadata": {},
   "outputs": [
    {
     "data": {
      "text/plain": [
       "['https://en.wikipedia.org//wiki/Main_Page',\n",
       " 'https://en.wikipedia.org//wiki/Wikipedia:Contents',\n",
       " 'https://en.wikipedia.org//wiki/Portal:Current_events',\n",
       " 'https://en.wikipedia.org//wiki/Special:Random',\n",
       " 'https://en.wikipedia.org//wiki/Wikipedia:About',\n",
       " 'https://en.wikipedia.org//wiki/Help:Contents',\n",
       " 'https://en.wikipedia.org//wiki/Help:Introduction',\n",
       " 'https://en.wikipedia.org//wiki/Wikipedia:Community_portal',\n",
       " 'https://en.wikipedia.org//wiki/Special:RecentChanges',\n",
       " 'https://en.wikipedia.org//wiki/Wikipedia:File_upload_wizard',\n",
       " 'https://en.wikipedia.org//wiki/Main_Page',\n",
       " 'https://en.wikipedia.org//wiki/Special:Search',\n",
       " 'https://en.wikipedia.org//wiki/Help:Introduction',\n",
       " 'https://en.wikipedia.org//wiki/Special:MyContributions',\n",
       " 'https://en.wikipedia.org//wiki/Special:MyTalk',\n",
       " 'https://en.wikipedia.org//wiki/Python',\n",
       " 'https://en.wikipedia.org//wiki/Talk:Python',\n",
       " 'https://en.wikipedia.org//wiki/Python',\n",
       " 'https://en.wikipedia.org//wiki/Python',\n",
       " 'https://en.wikipedia.org//wiki/Special:WhatLinksHere/Python',\n",
       " 'https://en.wikipedia.org//wiki/Special:RecentChangesLinked/Python',\n",
       " 'https://en.wikipedia.org//wiki/Wikipedia:File_Upload_Wizard',\n",
       " 'https://en.wikipedia.org//wiki/Special:SpecialPages',\n",
       " 'https://en.wikipedia.org//wiki/Pythonidae',\n",
       " 'https://en.wikipedia.org//wiki/Python_(genus)',\n",
       " 'https://en.wikipedia.org//wiki/Python_(mythology)',\n",
       " 'https://en.wikipedia.org//wiki/Python_(programming_language)',\n",
       " 'https://en.wikipedia.org//wiki/CMU_Common_Lisp',\n",
       " 'https://en.wikipedia.org//wiki/PERQ#PERQ_3',\n",
       " 'https://en.wikipedia.org//wiki/Python_of_Aenus',\n",
       " 'https://en.wikipedia.org//wiki/Python_(painter)',\n",
       " 'https://en.wikipedia.org//wiki/Python_of_Byzantium',\n",
       " 'https://en.wikipedia.org//wiki/Python_of_Catana',\n",
       " 'https://en.wikipedia.org//wiki/Python_Anghelo',\n",
       " 'https://en.wikipedia.org//wiki/Python_(Efteling)',\n",
       " 'https://en.wikipedia.org//wiki/Python_(Busch_Gardens_Tampa_Bay)',\n",
       " 'https://en.wikipedia.org//wiki/Python_(Coney_Island,_Cincinnati,_Ohio)',\n",
       " 'https://en.wikipedia.org//wiki/Python_(automobile_maker)',\n",
       " 'https://en.wikipedia.org//wiki/Python_(Ford_prototype)',\n",
       " 'https://en.wikipedia.org//wiki/Python_(missile)',\n",
       " 'https://en.wikipedia.org//wiki/Python_(nuclear_primary)',\n",
       " 'https://en.wikipedia.org//wiki/Colt_Python',\n",
       " 'https://en.wikipedia.org//wiki/Python_(codename)',\n",
       " 'https://en.wikipedia.org//wiki/Python_(film)',\n",
       " 'https://en.wikipedia.org//wiki/Monty_Python',\n",
       " 'https://en.wikipedia.org//wiki/Python_(Monty)_Pictures',\n",
       " 'https://en.wikipedia.org//wiki/Timon_of_Phlius',\n",
       " 'https://en.wikipedia.org//wiki/Pyton',\n",
       " 'https://en.wikipedia.org//wiki/Pithon',\n",
       " 'https://en.wikipedia.org//wiki/File:Disambig_gray.svg',\n",
       " 'https://en.wikipedia.org//wiki/Help:Disambiguation',\n",
       " 'https://en.wikipedia.org//wiki/Help:Category',\n",
       " 'https://en.wikipedia.org//wiki/Category:Disambiguation_pages',\n",
       " 'https://en.wikipedia.org//wiki/Category:Human_name_disambiguation_pages',\n",
       " 'https://en.wikipedia.org//wiki/Category:Disambiguation_pages_with_given-name-holder_lists',\n",
       " 'https://en.wikipedia.org//wiki/Category:Short_description_is_different_from_Wikidata',\n",
       " 'https://en.wikipedia.org//wiki/Category:All_article_disambiguation_pages',\n",
       " 'https://en.wikipedia.org//wiki/Category:All_disambiguation_pages',\n",
       " 'https://en.wikipedia.org//wiki/Category:Animal_common_name_disambiguation_pages',\n",
       " 'https://en.wikipedia.org//wiki/Wikipedia:About',\n",
       " 'https://en.wikipedia.org//wiki/Wikipedia:General_disclaimer']"
      ]
     },
     "execution_count": 43,
     "metadata": {},
     "output_type": "execute_result"
    }
   ],
   "source": [
    "soup3 = BeautifulSoup(res3.content, 'html.parser')\n",
    "\n",
    "wiki_links = [\"https://en.wikipedia.org/\"+a['href'] for a in soup.find_all('a', href=True) if a['href'].startswith('/wiki/')]\n",
    "\n",
    "wiki_links"
   ]
  },
  {
   "cell_type": "code",
   "execution_count": null,
   "metadata": {},
   "outputs": [],
   "source": []
  },
  {
   "cell_type": "markdown",
   "metadata": {},
   "source": [
    "#### Number of Titles that have changed in the United States Code since its last release point "
   ]
  },
  {
   "cell_type": "code",
   "execution_count": null,
   "metadata": {},
   "outputs": [],
   "source": [
    "# This is the url you will scrape in this exercise\n",
    "url = 'http://uscode.house.gov/download/download.shtml'"
   ]
  },
  {
   "cell_type": "code",
   "execution_count": null,
   "metadata": {},
   "outputs": [],
   "source": [
    "#your code\n"
   ]
  },
  {
   "cell_type": "code",
   "execution_count": null,
   "metadata": {},
   "outputs": [],
   "source": []
  },
  {
   "cell_type": "markdown",
   "metadata": {},
   "source": [
    "####  20 latest earthquakes info (date, time, latitude, longitude and region name) by the EMSC as a pandas dataframe"
   ]
  },
  {
   "cell_type": "code",
   "execution_count": null,
   "metadata": {},
   "outputs": [],
   "source": [
    "# This is the url you will scrape in this exercise\n",
    "url = 'https://www.emsc-csem.org/Earthquake/'"
   ]
  },
  {
   "cell_type": "code",
   "execution_count": null,
   "metadata": {},
   "outputs": [],
   "source": [
    "#your code\n"
   ]
  },
  {
   "cell_type": "code",
   "execution_count": null,
   "metadata": {},
   "outputs": [],
   "source": []
  },
  {
   "cell_type": "markdown",
   "metadata": {},
   "source": [
    "### BONUS QUESTIONS"
   ]
  },
  {
   "cell_type": "markdown",
   "metadata": {},
   "source": [
    "#### Display the date, days, title, city, country of next 25 hackathon events as a Pandas dataframe table"
   ]
  },
  {
   "cell_type": "code",
   "execution_count": null,
   "metadata": {},
   "outputs": [],
   "source": [
    "# This is the url you will scrape in this exercise\n",
    "url ='https://hackevents.co/hackathons'\n",
    "url_hack = 'https://hackevents.co/search/anything/anywhere/anytime' "
   ]
  },
  {
   "cell_type": "code",
   "execution_count": null,
   "metadata": {},
   "outputs": [],
   "source": [
    "#your code\n"
   ]
  },
  {
   "cell_type": "code",
   "execution_count": null,
   "metadata": {},
   "outputs": [],
   "source": []
  },
  {
   "cell_type": "markdown",
   "metadata": {},
   "source": [
    "#### List all language names and number of related articles in the order they appear in wikipedia.org"
   ]
  },
  {
   "cell_type": "code",
   "execution_count": null,
   "metadata": {},
   "outputs": [],
   "source": [
    "# This is the url you will scrape in this exercise\n",
    "url = 'https://www.wikipedia.org/'"
   ]
  },
  {
   "cell_type": "code",
   "execution_count": null,
   "metadata": {},
   "outputs": [],
   "source": [
    "#your code\n"
   ]
  },
  {
   "cell_type": "code",
   "execution_count": null,
   "metadata": {},
   "outputs": [],
   "source": []
  },
  {
   "cell_type": "markdown",
   "metadata": {},
   "source": [
    "#### A list with the different kind of datasets available in data.gov.uk "
   ]
  },
  {
   "cell_type": "code",
   "execution_count": null,
   "metadata": {},
   "outputs": [],
   "source": [
    "# This is the url you will scrape in this exercise\n",
    "url = 'https://data.gov.uk/'"
   ]
  },
  {
   "cell_type": "code",
   "execution_count": null,
   "metadata": {},
   "outputs": [],
   "source": [
    "#your code \n"
   ]
  },
  {
   "cell_type": "code",
   "execution_count": null,
   "metadata": {},
   "outputs": [],
   "source": []
  },
  {
   "cell_type": "markdown",
   "metadata": {},
   "source": [
    "#### Top 10 languages by number of native speakers stored in a Pandas Dataframe"
   ]
  },
  {
   "cell_type": "code",
   "execution_count": null,
   "metadata": {},
   "outputs": [],
   "source": [
    "# This is the url you will scrape in this exercise\n",
    "url = 'https://en.wikipedia.org/wiki/List_of_languages_by_number_of_native_speakers'"
   ]
  },
  {
   "cell_type": "code",
   "execution_count": null,
   "metadata": {},
   "outputs": [],
   "source": [
    "#your code\n"
   ]
  },
  {
   "cell_type": "code",
   "execution_count": null,
   "metadata": {},
   "outputs": [],
   "source": []
  },
  {
   "cell_type": "markdown",
   "metadata": {},
   "source": [
    "#### IMDB's Top 250 data (movie name, Initial release, director name and stars) as a pandas dataframe"
   ]
  },
  {
   "cell_type": "code",
   "execution_count": null,
   "metadata": {},
   "outputs": [],
   "source": [
    "# This is the url you will scrape in this exercise \n",
    "url = 'https://www.imdb.com/chart/top'"
   ]
  },
  {
   "cell_type": "code",
   "execution_count": null,
   "metadata": {},
   "outputs": [],
   "source": [
    "# your code\n"
   ]
  },
  {
   "cell_type": "code",
   "execution_count": null,
   "metadata": {},
   "outputs": [],
   "source": []
  },
  {
   "cell_type": "code",
   "execution_count": null,
   "metadata": {},
   "outputs": [],
   "source": []
  }
 ],
 "metadata": {
  "kernelspec": {
   "display_name": "ironhack",
   "language": "python",
   "name": "ironhack"
  },
  "language_info": {
   "codemirror_mode": {
    "name": "ipython",
    "version": 3
   },
   "file_extension": ".py",
   "mimetype": "text/x-python",
   "name": "python",
   "nbconvert_exporter": "python",
   "pygments_lexer": "ipython3",
   "version": "3.11.5"
  },
  "toc": {
   "base_numbering": 1,
   "nav_menu": {},
   "number_sections": false,
   "sideBar": true,
   "skip_h1_title": false,
   "title_cell": "Table of Contents",
   "title_sidebar": "Contents",
   "toc_cell": false,
   "toc_position": {
    "height": "calc(100% - 180px)",
    "left": "10px",
    "top": "150px",
    "width": "288px"
   },
   "toc_section_display": true,
   "toc_window_display": false
  }
 },
 "nbformat": 4,
 "nbformat_minor": 2
}
