{
 "cells": [
  {
   "cell_type": "markdown",
   "metadata": {},
   "source": [
    "# Web Scraping Lab\n",
    "\n",
    "You will find in this notebook some scrapy exercises to practise your scraping skills.\n",
    "\n",
    "**Tips:**\n",
    "\n",
    "- Check the response status code for each request to ensure you have obtained the intended contennt.\n",
    "- Print the response text in each request to understand the kind of info you are getting and its format.\n",
    "- Check for patterns in the response text to extract the data/info requested in each question.\n",
    "- Visit each url and take a look at its source through Chrome DevTools. You'll need to identify the html tags, special class names etc. used for the html content you are expected to extract."
   ]
  },
  {
   "cell_type": "markdown",
   "metadata": {},
   "source": [
    "- [Requests library](http://docs.python-requests.org/en/master/#the-user-guide) documentation \n",
    "- [Beautiful Soup Doc](https://www.crummy.com/software/BeautifulSoup/bs4/doc/)\n",
    "- [Urllib](https://docs.python.org/3/library/urllib.html#module-urllib)\n",
    "- [re lib](https://docs.python.org/3/library/re.html)\n",
    "- [lxml lib](https://lxml.de/)\n",
    "- [Scrapy](https://scrapy.org/)\n",
    "- [List of HTTP status codes](https://en.wikipedia.org/wiki/List_of_HTTP_status_codes)\n",
    "- [HTML basics](http://www.simplehtmlguide.com/cheatsheet.php)\n",
    "- [CSS basics](https://www.cssbasics.com/#page_start)"
   ]
  },
  {
   "cell_type": "markdown",
   "metadata": {},
   "source": [
    "#### Below are the libraries and modules you may need. `requests`,  `BeautifulSoup` and `pandas` are imported for you. If you prefer to use additional libraries feel free to uncomment them."
   ]
  },
  {
   "cell_type": "code",
   "execution_count": 1,
   "metadata": {},
   "outputs": [],
   "source": [
    "import requests\n",
    "from bs4 import BeautifulSoup\n",
    "import pandas as pd\n",
    "# from pprint import pprint\n",
    "# from lxml import html\n",
    "# from lxml.html import fromstring\n",
    "# import urllib.request\n",
    "from urllib.request import urlopen\n",
    "# import random\n",
    "import re\n",
    "# import scrapy"
   ]
  },
  {
   "cell_type": "markdown",
   "metadata": {},
   "source": [
    "#### Download, parse (using BeautifulSoup), and print the content from the Trending Developers page from GitHub:"
   ]
  },
  {
   "cell_type": "code",
   "execution_count": 7,
   "metadata": {},
   "outputs": [],
   "source": [
    "# This is the url you will scrape in this exercise\n",
    "url = 'https://github.com/trending/developers'"
   ]
  },
  {
   "cell_type": "code",
   "execution_count": 8,
   "metadata": {},
   "outputs": [],
   "source": [
    "#1. Downloading the website:\n",
    "res = requests.get(url)\n",
    "#2. Parsing this homie\n",
    "soup = BeautifulSoup(res.content, \"html.parser\")"
   ]
  },
  {
   "cell_type": "markdown",
   "metadata": {},
   "source": [
    "#### Display the names of the trending developers retrieved in the previous step.\n",
    "\n",
    "Your output should be a Python list of developer names. Each name should not contain any html tag.\n",
    "\n",
    "**Instructions:**\n",
    "\n",
    "1. Find out the html tag and class names used for the developer names. You can achieve this using Chrome DevTools.\n",
    "\n",
    "1. Use BeautifulSoup to extract all the html elements that contain the developer names.\n",
    "\n",
    "1. Use string manipulation techniques to replace whitespaces and linebreaks (i.e. `\\n`) in the *text* of each html element. Use a list to store the clean names.\n",
    "\n",
    "1. Print the list of names.\n",
    "\n",
    "Your output should look like below:\n",
    "\n",
    "```\n",
    "['trimstray (@trimstray)',\n",
    " 'joewalnes (JoeWalnes)',\n",
    " 'charlax (Charles-AxelDein)',\n",
    " 'ForrestKnight (ForrestKnight)',\n",
    " 'revery-ui (revery-ui)',\n",
    " 'alibaba (Alibaba)',\n",
    " 'Microsoft (Microsoft)',\n",
    " 'github (GitHub)',\n",
    " 'facebook (Facebook)',\n",
    " 'boazsegev (Bo)',\n",
    " 'google (Google)',\n",
    " 'cloudfetch',\n",
    " 'sindresorhus (SindreSorhus)',\n",
    " 'tensorflow',\n",
    " 'apache (TheApacheSoftwareFoundation)',\n",
    " 'DevonCrawford (DevonCrawford)',\n",
    " 'ARMmbed (ArmMbed)',\n",
    " 'vuejs (vuejs)',\n",
    " 'fastai (fast.ai)',\n",
    " 'QiShaoXuan (Qi)',\n",
    " 'joelparkerhenderson (JoelParkerHenderson)',\n",
    " 'torvalds (LinusTorvalds)',\n",
    " 'CyC2018',\n",
    " 'komeiji-satori (神楽坂覚々)',\n",
    " 'script-8']\n",
    " ```"
   ]
  },
  {
   "cell_type": "code",
   "execution_count": 46,
   "metadata": {},
   "outputs": [
    {
     "data": {
      "text/plain": [
       "['Olivier Halligon (AliSoftware)',\n",
       " 'Alon Zakai (kripken)',\n",
       " 'Ariel Mashraki (a8m)',\n",
       " 'Azure SDK Bot (azure-sdk)',\n",
       " 'Kieron Quinn (KieronQuinn)',\n",
       " 'Jonny Burger (JonnyBurger)',\n",
       " 'Ayush Chaurasia (AyushExel)',\n",
       " 'Roberto Butti (roberto-butti)',\n",
       " 'Costa Huang (vwxyzjn)',\n",
       " 'Alessandro Ros (aler9)',\n",
       " 'Kyle Barron (kylebarron)',\n",
       " 'Nikita Sobolev (sobolevn)',\n",
       " 'Meng Zhang (wsxiaoys)',\n",
       " 'Alex Rudenko (OrKoN)',\n",
       " 'Stanislas Polu (spolu)',\n",
       " 'R.I.Pienaar (ripienaar)',\n",
       " 'Lukas Masuch (LukasMasuch)',\n",
       " 'Alex Yang (himself65)',\n",
       " 'Wes Bos (wesbos)',\n",
       " 'Rosalie Wagner (RosaWagner)',\n",
       " 'Lovell Fuller (lovell)',\n",
       " 'Erick Wendel (ErickWendel)',\n",
       " 'Fatih Arslan (fatih)',\n",
       " 'pngwn (pngwn)',\n",
       " 'Matthew Feickert (matthewfeickert)']"
      ]
     },
     "execution_count": 46,
     "metadata": {},
     "output_type": "execute_result"
    }
   ],
   "source": [
    "#3. Storing the names in a list:\n",
    "\n",
    "#3.1.1 Getting the nickname\n",
    "names_trending_devs_unprocessed = soup.find_all(\"h1\", {\"class\":\"h3 lh-condensed\"})\n",
    "#3.1.2 Cleaning it so then I can comprehend it into a list\n",
    "#names_trending_devs_unprocessed[0].getText().strip()\n",
    "\n",
    "#3.2.1 Getting the handle for the nickname\n",
    "handles_trending_devs_unprocessed = soup.find_all(\"p\", {\"class\":\"f4 text-normal mb-1\"})\n",
    "#3.2.2 Cleaning it so then I can comprehend it into a list\n",
    "#handles_trending_devs_unprocessed[0].getText().strip().replace(\"\\n\",\"\")\n",
    "\n",
    "#3.3 comprehending them into a list\n",
    "names_trending_devs_processed = [i.getText().strip() for i in names_trending_devs_unprocessed]\n",
    "names_trending_devs_processed\n",
    "handles_trending_devs_processed = [i.getText().strip().replace(\"\\n\",\"\") for i in handles_trending_devs_unprocessed]\n",
    "handles_trending_devs_processed\n",
    "\n",
    "trending_developers_processed = [i + \" (\" + j + \")\" for i,j in zip(names_trending_devs_processed,handles_trending_devs_processed)]\n",
    "trending_developers_processed"
   ]
  },
  {
   "cell_type": "markdown",
   "metadata": {},
   "source": [
    "#### Display the trending Python repositories in GitHub\n",
    "\n",
    "The steps to solve this problem is similar to the previous one except that you need to find out the repository names instead of developer names."
   ]
  },
  {
   "cell_type": "code",
   "execution_count": 47,
   "metadata": {},
   "outputs": [],
   "source": [
    "# This is the url you will scrape in this exercise\n",
    "url = 'https://github.com/trending/python?since=daily'"
   ]
  },
  {
   "cell_type": "code",
   "execution_count": 48,
   "metadata": {},
   "outputs": [],
   "source": [
    "res = requests.get(url)\n",
    "#2. Parsing this homie\n",
    "soup = BeautifulSoup(res.content, \"html.parser\")"
   ]
  },
  {
   "cell_type": "code",
   "execution_count": 65,
   "metadata": {},
   "outputs": [
    {
     "data": {
      "text/plain": [
       "['public-apis / public-apis',\n",
       " 'SUDO-AI-3D / zero123plus',\n",
       " 's0md3v / roop',\n",
       " 'xlang-ai / OpenAgents',\n",
       " 'AI-Citizen / SolidGPT',\n",
       " 'psf / black',\n",
       " 'THUDM / AgentTuning',\n",
       " 'bregman-arie / devops-exercises',\n",
       " 'pyg-team / pytorch_geometric',\n",
       " 'bytedance / SALMONN',\n",
       " 'donnemartin / system-design-primer',\n",
       " 'N1k0la-T / CVE-2023-36745',\n",
       " 'firmai / financial-machine-learning',\n",
       " 'w-okada / voice-changer',\n",
       " 'horizon3ai / CVE-2023-34051',\n",
       " 'kyleskom / NBA-Machine-Learning-Sports-Betting',\n",
       " 'facebookresearch / seamless_communication',\n",
       " 'LAION-AI / Open-Assistant',\n",
       " 'danswer-ai / danswer',\n",
       " 'XingangPan / DragGAN',\n",
       " 'haotian-liu / LLaVA',\n",
       " 'iterative / dvc',\n",
       " 'mckinsey / vizro',\n",
       " 'astral-sh / ruff-pre-commit',\n",
       " 'eosphoros-ai / DB-GPT']"
      ]
     },
     "execution_count": 65,
     "metadata": {},
     "output_type": "execute_result"
    }
   ],
   "source": [
    "#3. Storing the names in a list:\n",
    "\n",
    "#3.1.1 Getting the first part of the repo name\n",
    "trendin_repos_1_unprocessed = soup.find_all(\"h2\", {\"class\":\"h3 lh-condensed\"})\n",
    "#3.1.2 Cleaning it so then I can comprehend it into a list\n",
    "trendin_repos_1_unprocessed[1].getText().replace(\"\\n\",\"\").replace(\"/\",\"\").replace(\"       \",\" \").strip()\n",
    "\n",
    "#3.2 processed into a comprhnd list\n",
    "trendin_repos_1_processed = [i.getText().replace(\"\\n\",\"\").replace(\"      \",\" \").strip() for i in trendin_repos_1_unprocessed]\n",
    "trendin_repos_1_processed"
   ]
  },
  {
   "cell_type": "markdown",
   "metadata": {},
   "source": [
    "#### Display all the image links from Walt Disney wikipedia page"
   ]
  },
  {
   "cell_type": "code",
   "execution_count": 66,
   "metadata": {},
   "outputs": [],
   "source": [
    "# This is the url you will scrape in this exercise\n",
    "url = 'https://en.wikipedia.org/wiki/Walt_Disney'"
   ]
  },
  {
   "cell_type": "code",
   "execution_count": 67,
   "metadata": {},
   "outputs": [],
   "source": [
    "res = requests.get(url)\n",
    "#2. Parsing this homie\n",
    "soup = BeautifulSoup(res.content, \"html.parser\")"
   ]
  },
  {
   "cell_type": "code",
   "execution_count": 85,
   "metadata": {},
   "outputs": [
    {
     "data": {
      "text/plain": [
       "['/wiki/File:Walt_Disney_Birthplace_Exterior_Hermosa_Chicago_Illinois.jpg']"
      ]
     },
     "execution_count": 85,
     "metadata": {},
     "output_type": "execute_result"
    }
   ],
   "source": [
    "#3. Storing the names in a list:\n",
    "\n",
    "#3.1.1 Getting the first part of the repo name\n",
    "url_list=[]\n",
    "for a in soup.find(\"figure\", {\"typeof\":\"mw:File/Thumb\"}).find_all(\"a\"):\n",
    "    url_list.append(a[\"href\"])\n",
    "url_list\n",
    "#image_links_unproc = soup.find_all(\"figure\", {\"typeof\":\"mw:File/Thumb\"})\n",
    "#image_links_unproc\n",
    "#3.1.2 Cleaning it so then I can comprehend it into a list\n",
    "#trendin_repos_1_unprocessed[1].getText().replace(\"\\n\",\"\").replace(\"/\",\"\").replace(\"       \",\" \").strip()"
   ]
  },
  {
   "cell_type": "code",
   "execution_count": 96,
   "metadata": {
    "scrolled": true
   },
   "outputs": [
    {
     "data": {
      "text/plain": [
       "[<figure class=\"mw-default-size mw-halign-left\" typeof=\"mw:File/Thumb\"><a class=\"mw-file-description\" href=\"/wiki/File:Walt_Disney_Birthplace_Exterior_Hermosa_Chicago_Illinois.jpg\"><img alt=\"Pale yellow wooden house with brown trim surrounded by white picket fence\" class=\"mw-file-element\" data-file-height=\"1080\" data-file-width=\"1440\" decoding=\"async\" height=\"165\" src=\"//upload.wikimedia.org/wikipedia/commons/thumb/3/3a/Walt_Disney_Birthplace_Exterior_Hermosa_Chicago_Illinois.jpg/220px-Walt_Disney_Birthplace_Exterior_Hermosa_Chicago_Illinois.jpg\" srcset=\"//upload.wikimedia.org/wikipedia/commons/thumb/3/3a/Walt_Disney_Birthplace_Exterior_Hermosa_Chicago_Illinois.jpg/330px-Walt_Disney_Birthplace_Exterior_Hermosa_Chicago_Illinois.jpg 1.5x, //upload.wikimedia.org/wikipedia/commons/thumb/3/3a/Walt_Disney_Birthplace_Exterior_Hermosa_Chicago_Illinois.jpg/440px-Walt_Disney_Birthplace_Exterior_Hermosa_Chicago_Illinois.jpg 2x\" width=\"220\"/></a><figcaption>Disney's childhood home</figcaption></figure>,\n",
       " <figure class=\"mw-default-size\" typeof=\"mw:File/Thumb\"><a class=\"mw-file-description\" href=\"/wiki/File:Walt_Disney_envelope_ca._1921.jpg\"><img class=\"mw-file-element\" data-file-height=\"1086\" data-file-width=\"1576\" decoding=\"async\" height=\"152\" src=\"//upload.wikimedia.org/wikipedia/commons/thumb/c/c4/Walt_Disney_envelope_ca._1921.jpg/220px-Walt_Disney_envelope_ca._1921.jpg\" srcset=\"//upload.wikimedia.org/wikipedia/commons/thumb/c/c4/Walt_Disney_envelope_ca._1921.jpg/330px-Walt_Disney_envelope_ca._1921.jpg 1.5x, //upload.wikimedia.org/wikipedia/commons/thumb/c/c4/Walt_Disney_envelope_ca._1921.jpg/440px-Walt_Disney_envelope_ca._1921.jpg 2x\" width=\"220\"/></a><figcaption>Walt Disney's business envelope featured a self-portrait, <abbr title=\"circa\">c.</abbr><span style=\"white-space:nowrap;\"> 1921</span>.</figcaption></figure>,\n",
       " <figure class=\"mw-default-size mw-halign-left\" typeof=\"mw:File/Thumb\"><a class=\"mw-file-description\" href=\"/wiki/File:Steamboat-willie.jpg\"><img alt=\"A cartoon mouse is operating a ship's steering wheel\" class=\"mw-file-element\" data-file-height=\"267\" data-file-width=\"373\" decoding=\"async\" height=\"157\" src=\"//upload.wikimedia.org/wikipedia/en/thumb/4/4e/Steamboat-willie.jpg/220px-Steamboat-willie.jpg\" srcset=\"//upload.wikimedia.org/wikipedia/en/thumb/4/4e/Steamboat-willie.jpg/330px-Steamboat-willie.jpg 1.5x, //upload.wikimedia.org/wikipedia/en/4/4e/Steamboat-willie.jpg 2x\" width=\"220\"/></a><figcaption>The first appearance of <a href=\"/wiki/Mickey_Mouse\" title=\"Mickey Mouse\">Mickey Mouse</a>, in <i><a href=\"/wiki/Steamboat_Willie\" title=\"Steamboat Willie\">Steamboat Willie</a></i> (1928)</figcaption></figure>,\n",
       " <figure class=\"mw-default-size\" typeof=\"mw:File/Thumb\"><a class=\"mw-file-description\" href=\"/wiki/File:Walt_Disney_Snow_white_1937_trailer_screenshot_(13).jpg\"><img alt=\"Walt Disney sits in front of a set of models of the seven dwarfs\" class=\"mw-file-element\" data-file-height=\"388\" data-file-width=\"500\" decoding=\"async\" height=\"171\" src=\"//upload.wikimedia.org/wikipedia/commons/thumb/c/cd/Walt_Disney_Snow_white_1937_trailer_screenshot_%2813%29.jpg/220px-Walt_Disney_Snow_white_1937_trailer_screenshot_%2813%29.jpg\" srcset=\"//upload.wikimedia.org/wikipedia/commons/thumb/c/cd/Walt_Disney_Snow_white_1937_trailer_screenshot_%2813%29.jpg/330px-Walt_Disney_Snow_white_1937_trailer_screenshot_%2813%29.jpg 1.5x, //upload.wikimedia.org/wikipedia/commons/thumb/c/cd/Walt_Disney_Snow_white_1937_trailer_screenshot_%2813%29.jpg/440px-Walt_Disney_Snow_white_1937_trailer_screenshot_%2813%29.jpg 2x\" width=\"220\"/></a><figcaption>Walt Disney introduces each of the seven dwarfs in a scene from the original 1937 <i><a href=\"/wiki/Snow_White_and_the_Seven_Dwarfs_(1937_film)\" title=\"Snow White and the Seven Dwarfs (1937 film)\">Snow White</a></i> theatrical trailer.</figcaption></figure>,\n",
       " <figure class=\"mw-default-size mw-halign-left\" typeof=\"mw:File/Thumb\"><a class=\"mw-file-description\" href=\"/wiki/File:Disney_drawing_goofy.jpg\"><img class=\"mw-file-element\" data-file-height=\"770\" data-file-width=\"600\" decoding=\"async\" height=\"218\" src=\"//upload.wikimedia.org/wikipedia/commons/thumb/1/15/Disney_drawing_goofy.jpg/170px-Disney_drawing_goofy.jpg\" srcset=\"//upload.wikimedia.org/wikipedia/commons/thumb/1/15/Disney_drawing_goofy.jpg/255px-Disney_drawing_goofy.jpg 1.5x, //upload.wikimedia.org/wikipedia/commons/thumb/1/15/Disney_drawing_goofy.jpg/340px-Disney_drawing_goofy.jpg 2x\" width=\"170\"/></a><figcaption>Disney drawing Goofy for a group of girls in Argentina, 1941</figcaption></figure>,\n",
       " <figure class=\"mw-default-size\" typeof=\"mw:File/Thumb\"><a class=\"mw-file-description\" href=\"/wiki/File:WaltDisneyplansDisneylandDec1954.jpg\"><img class=\"mw-file-element\" data-file-height=\"2417\" data-file-width=\"2723\" decoding=\"async\" height=\"195\" src=\"//upload.wikimedia.org/wikipedia/commons/thumb/8/8c/WaltDisneyplansDisneylandDec1954.jpg/220px-WaltDisneyplansDisneylandDec1954.jpg\" srcset=\"//upload.wikimedia.org/wikipedia/commons/thumb/8/8c/WaltDisneyplansDisneylandDec1954.jpg/330px-WaltDisneyplansDisneylandDec1954.jpg 1.5x, //upload.wikimedia.org/wikipedia/commons/thumb/8/8c/WaltDisneyplansDisneylandDec1954.jpg/440px-WaltDisneyplansDisneylandDec1954.jpg 2x\" width=\"220\"/></a><figcaption>Disney shows the plans of <a href=\"/wiki/Disneyland\" title=\"Disneyland\">Disneyland</a> to officials from <a href=\"/wiki/Orange_County,_California\" title=\"Orange County, California\">Orange County</a> in December 1954</figcaption></figure>,\n",
       " <figure class=\"mw-default-size mw-halign-left\" typeof=\"mw:File/Thumb\"><a class=\"mw-file-description\" href=\"/wiki/File:Walt_disney_portrait_right.jpg\"><img class=\"mw-file-element\" data-file-height=\"902\" data-file-width=\"667\" decoding=\"async\" height=\"230\" src=\"//upload.wikimedia.org/wikipedia/commons/thumb/f/ff/Walt_disney_portrait_right.jpg/170px-Walt_disney_portrait_right.jpg\" srcset=\"//upload.wikimedia.org/wikipedia/commons/thumb/f/ff/Walt_disney_portrait_right.jpg/255px-Walt_disney_portrait_right.jpg 1.5x, //upload.wikimedia.org/wikipedia/commons/thumb/f/ff/Walt_disney_portrait_right.jpg/340px-Walt_disney_portrait_right.jpg 2x\" width=\"170\"/></a><figcaption>Disney in 1954</figcaption></figure>,\n",
       " <figure class=\"mw-default-size\" typeof=\"mw:File/Thumb\"><a class=\"mw-file-description\" href=\"/wiki/File:Walt_Disney_Grave.JPG\"><img alt=\"A gravestone inscribed 'Walter Elias Disney', 'Lillian Bounds Disney', 'Robert B. Brown', Sharon Disney Brown Lund ashes scattered in paradise'\" class=\"mw-file-element\" data-file-height=\"1700\" data-file-width=\"1400\" decoding=\"async\" height=\"206\" src=\"//upload.wikimedia.org/wikipedia/commons/thumb/1/1a/Walt_Disney_Grave.JPG/170px-Walt_Disney_Grave.JPG\" srcset=\"//upload.wikimedia.org/wikipedia/commons/thumb/1/1a/Walt_Disney_Grave.JPG/255px-Walt_Disney_Grave.JPG 1.5x, //upload.wikimedia.org/wikipedia/commons/thumb/1/1a/Walt_Disney_Grave.JPG/340px-Walt_Disney_Grave.JPG 2x\" width=\"170\"/></a><figcaption>Grave of Walt Disney at Forest Lawn, Glendale</figcaption></figure>,\n",
       " <figure class=\"mw-default-size mw-halign-left\" typeof=\"mw:File/Thumb\"><a class=\"mw-file-description\" href=\"/wiki/File:DisneySchiphol1951.jpg\"><img class=\"mw-file-element\" data-file-height=\"2493\" data-file-width=\"3247\" decoding=\"async\" height=\"169\" src=\"//upload.wikimedia.org/wikipedia/commons/thumb/1/13/DisneySchiphol1951.jpg/220px-DisneySchiphol1951.jpg\" srcset=\"//upload.wikimedia.org/wikipedia/commons/thumb/1/13/DisneySchiphol1951.jpg/330px-DisneySchiphol1951.jpg 1.5x, //upload.wikimedia.org/wikipedia/commons/thumb/1/13/DisneySchiphol1951.jpg/440px-DisneySchiphol1951.jpg 2x\" width=\"220\"/></a><figcaption>Disney family at <a class=\"mw-redirect\" href=\"/wiki/Schiphol_Airport\" title=\"Schiphol Airport\">Schiphol Airport</a> (1951)</figcaption></figure>,\n",
       " <figure class=\"mw-default-size\" typeof=\"mw:File/Thumb\"><a class=\"mw-file-description\" href=\"/wiki/File:Disney1968.jpg\"><img alt=\"A portrait of Disney with cartoon representations of different nationalities on a 6 cent US stamp\" class=\"mw-file-element\" data-file-height=\"736\" data-file-width=\"483\" decoding=\"async\" height=\"259\" src=\"//upload.wikimedia.org/wikipedia/commons/thumb/6/6c/Disney1968.jpg/170px-Disney1968.jpg\" srcset=\"//upload.wikimedia.org/wikipedia/commons/thumb/6/6c/Disney1968.jpg/255px-Disney1968.jpg 1.5x, //upload.wikimedia.org/wikipedia/commons/thumb/6/6c/Disney1968.jpg/340px-Disney1968.jpg 2x\" width=\"170\"/></a><figcaption>A portrait of Disney with cartoon representations of different nationalities on a 6 cent U.S. postage stamp, 1968</figcaption></figure>,\n",
       " <figure class=\"mw-default-size mw-halign-right\" typeof=\"mw:File/Thumb\"><a class=\"mw-file-description\" href=\"/wiki/File:Disney_Oscar_1953_(cropped).jpg\"><img alt=\"A black and white photograph of Walt Disney standing, holding an Academy Award.\" class=\"mw-file-element\" data-file-height=\"1214\" data-file-width=\"841\" decoding=\"async\" height=\"245\" src=\"//upload.wikimedia.org/wikipedia/commons/thumb/b/b0/Disney_Oscar_1953_%28cropped%29.jpg/170px-Disney_Oscar_1953_%28cropped%29.jpg\" srcset=\"//upload.wikimedia.org/wikipedia/commons/thumb/b/b0/Disney_Oscar_1953_%28cropped%29.jpg/255px-Disney_Oscar_1953_%28cropped%29.jpg 1.5x, //upload.wikimedia.org/wikipedia/commons/thumb/b/b0/Disney_Oscar_1953_%28cropped%29.jpg/340px-Disney_Oscar_1953_%28cropped%29.jpg 2x\" width=\"170\"/></a><figcaption>Disney in 1953, winning the <a href=\"/wiki/Academy_Award_for_Best_Live_Action_Short_Film\" title=\"Academy Award for Best Live Action Short Film\">Academy Award for Best Live Action Short Film</a> for <i><a href=\"/wiki/Water_Birds\" title=\"Water Birds\">Water Birds</a></i> (1952)</figcaption></figure>]"
      ]
     },
     "execution_count": 96,
     "metadata": {},
     "output_type": "execute_result"
    }
   ],
   "source": [
    "image_links_unproc = soup.find_all(\"figure\", {\"typeof\":\"mw:File/Thumb\"})\n",
    "image_links_unproc"
   ]
  },
  {
   "cell_type": "code",
   "execution_count": 97,
   "metadata": {},
   "outputs": [
    {
     "name": "stdout",
     "output_type": "stream",
     "text": [
      "['/wiki/File:Walt_Disney_Birthplace_Exterior_Hermosa_Chicago_Illinois.jpg', '/wiki/File:Walt_Disney_envelope_ca._1921.jpg', '/wiki/File:Steamboat-willie.jpg', '/wiki/File:Walt_Disney_Snow_white_1937_trailer_screenshot_(13).jpg', '/wiki/File:Disney_drawing_goofy.jpg', '/wiki/File:WaltDisneyplansDisneylandDec1954.jpg', '/wiki/File:Walt_disney_portrait_right.jpg', '/wiki/File:Walt_Disney_Grave.JPG', '/wiki/File:DisneySchiphol1951.jpg', '/wiki/File:Disney1968.jpg', '/wiki/File:Disney_Oscar_1953_(cropped).jpg']\n"
     ]
    }
   ],
   "source": [
    "#3. Storing the names in a list:\n",
    "\n",
    "#3.1.1 Getting the first part of the repo name\n",
    "image_links_unproc = soup.find_all(\"figure\", {\"typeof\":\"mw:File/Thumb\"})\n",
    "image_links_unproc\n",
    "\n",
    "#by here I'm left out with an effing mess. Now:\n",
    "\n",
    "#creating a list to store the links:\n",
    "image_links = []\n",
    "\n",
    "# Iterate through the list of <figure> elements\n",
    "for i in image_links_unproc: #note from Ricardo: I printed the type of image_links_unproc and it's not a list, it's wtv else but it works\n",
    "\n",
    "    a_tag = i.find(\"a\")\n",
    "    if a_tag:\n",
    "        link = a_tag.get(\"href\")\n",
    "        if link:\n",
    "            image_links.append(link)\n",
    "\n",
    "# Now, image_links contains the extracted links in a list\n",
    "print(image_links)\n",
    "\n",
    "\n",
    "\n"
   ]
  },
  {
   "cell_type": "markdown",
   "metadata": {},
   "source": [
    "#### Retrieve an arbitary Wikipedia page of \"Python\" and create a list of links on that page"
   ]
  },
  {
   "cell_type": "code",
   "execution_count": null,
   "metadata": {},
   "outputs": [],
   "source": [
    "# This is the url you will scrape in this exercise\n",
    "url ='https://en.wikipedia.org/wiki/Python' "
   ]
  },
  {
   "cell_type": "code",
   "execution_count": null,
   "metadata": {},
   "outputs": [],
   "source": [
    "#your code\n"
   ]
  },
  {
   "cell_type": "code",
   "execution_count": null,
   "metadata": {},
   "outputs": [],
   "source": []
  },
  {
   "cell_type": "markdown",
   "metadata": {},
   "source": [
    "#### Number of Titles that have changed in the United States Code since its last release point "
   ]
  },
  {
   "cell_type": "code",
   "execution_count": null,
   "metadata": {},
   "outputs": [],
   "source": [
    "# This is the url you will scrape in this exercise\n",
    "url = 'http://uscode.house.gov/download/download.shtml'"
   ]
  },
  {
   "cell_type": "code",
   "execution_count": null,
   "metadata": {},
   "outputs": [],
   "source": [
    "#your code\n"
   ]
  },
  {
   "cell_type": "code",
   "execution_count": null,
   "metadata": {},
   "outputs": [],
   "source": []
  },
  {
   "cell_type": "markdown",
   "metadata": {},
   "source": [
    "####  20 latest earthquakes info (date, time, latitude, longitude and region name) by the EMSC as a pandas dataframe"
   ]
  },
  {
   "cell_type": "code",
   "execution_count": null,
   "metadata": {},
   "outputs": [],
   "source": [
    "# This is the url you will scrape in this exercise\n",
    "url = 'https://www.emsc-csem.org/Earthquake/'"
   ]
  },
  {
   "cell_type": "code",
   "execution_count": null,
   "metadata": {},
   "outputs": [],
   "source": [
    "#your code\n"
   ]
  },
  {
   "cell_type": "code",
   "execution_count": null,
   "metadata": {},
   "outputs": [],
   "source": []
  },
  {
   "cell_type": "markdown",
   "metadata": {},
   "source": [
    "### BONUS QUESTIONS"
   ]
  },
  {
   "cell_type": "markdown",
   "metadata": {},
   "source": [
    "#### Display the date, days, title, city, country of next 25 hackathon events as a Pandas dataframe table"
   ]
  },
  {
   "cell_type": "code",
   "execution_count": null,
   "metadata": {},
   "outputs": [],
   "source": [
    "# This is the url you will scrape in this exercise\n",
    "url ='https://hackevents.co/hackathons'\n",
    "url_hack = 'https://hackevents.co/search/anything/anywhere/anytime' "
   ]
  },
  {
   "cell_type": "code",
   "execution_count": null,
   "metadata": {},
   "outputs": [],
   "source": [
    "#your code\n"
   ]
  },
  {
   "cell_type": "code",
   "execution_count": null,
   "metadata": {},
   "outputs": [],
   "source": []
  },
  {
   "cell_type": "markdown",
   "metadata": {},
   "source": [
    "#### List all language names and number of related articles in the order they appear in wikipedia.org"
   ]
  },
  {
   "cell_type": "code",
   "execution_count": null,
   "metadata": {},
   "outputs": [],
   "source": [
    "# This is the url you will scrape in this exercise\n",
    "url = 'https://www.wikipedia.org/'"
   ]
  },
  {
   "cell_type": "code",
   "execution_count": null,
   "metadata": {},
   "outputs": [],
   "source": [
    "#your code\n"
   ]
  },
  {
   "cell_type": "code",
   "execution_count": null,
   "metadata": {},
   "outputs": [],
   "source": []
  },
  {
   "cell_type": "markdown",
   "metadata": {},
   "source": [
    "#### A list with the different kind of datasets available in data.gov.uk "
   ]
  },
  {
   "cell_type": "code",
   "execution_count": null,
   "metadata": {},
   "outputs": [],
   "source": [
    "# This is the url you will scrape in this exercise\n",
    "url = 'https://data.gov.uk/'"
   ]
  },
  {
   "cell_type": "code",
   "execution_count": null,
   "metadata": {},
   "outputs": [],
   "source": [
    "#your code \n"
   ]
  },
  {
   "cell_type": "code",
   "execution_count": null,
   "metadata": {},
   "outputs": [],
   "source": []
  },
  {
   "cell_type": "markdown",
   "metadata": {},
   "source": [
    "#### Top 10 languages by number of native speakers stored in a Pandas Dataframe"
   ]
  },
  {
   "cell_type": "code",
   "execution_count": null,
   "metadata": {},
   "outputs": [],
   "source": [
    "# This is the url you will scrape in this exercise\n",
    "url = 'https://en.wikipedia.org/wiki/List_of_languages_by_number_of_native_speakers'"
   ]
  },
  {
   "cell_type": "code",
   "execution_count": null,
   "metadata": {},
   "outputs": [],
   "source": [
    "#your code\n"
   ]
  },
  {
   "cell_type": "code",
   "execution_count": null,
   "metadata": {},
   "outputs": [],
   "source": []
  },
  {
   "cell_type": "markdown",
   "metadata": {},
   "source": [
    "#### IMDB's Top 250 data (movie name, Initial release, director name and stars) as a pandas dataframe"
   ]
  },
  {
   "cell_type": "code",
   "execution_count": null,
   "metadata": {},
   "outputs": [],
   "source": [
    "# This is the url you will scrape in this exercise \n",
    "url = 'https://www.imdb.com/chart/top'"
   ]
  },
  {
   "cell_type": "code",
   "execution_count": null,
   "metadata": {},
   "outputs": [],
   "source": [
    "# your code\n"
   ]
  },
  {
   "cell_type": "code",
   "execution_count": null,
   "metadata": {},
   "outputs": [],
   "source": []
  },
  {
   "cell_type": "code",
   "execution_count": null,
   "metadata": {},
   "outputs": [],
   "source": []
  }
 ],
 "metadata": {
  "kernelspec": {
   "display_name": "Python 3 (ipykernel)",
   "language": "python",
   "name": "python3"
  },
  "language_info": {
   "codemirror_mode": {
    "name": "ipython",
    "version": 3
   },
   "file_extension": ".py",
   "mimetype": "text/x-python",
   "name": "python",
   "nbconvert_exporter": "python",
   "pygments_lexer": "ipython3",
   "version": "3.11.4"
  },
  "toc": {
   "base_numbering": 1,
   "nav_menu": {},
   "number_sections": false,
   "sideBar": true,
   "skip_h1_title": false,
   "title_cell": "Table of Contents",
   "title_sidebar": "Contents",
   "toc_cell": false,
   "toc_position": {
    "height": "calc(100% - 180px)",
    "left": "10px",
    "top": "150px",
    "width": "288px"
   },
   "toc_section_display": true,
   "toc_window_display": false
  }
 },
 "nbformat": 4,
 "nbformat_minor": 2
}
