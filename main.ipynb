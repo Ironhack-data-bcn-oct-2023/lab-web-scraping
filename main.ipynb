{
 "cells": [
  {
   "cell_type": "markdown",
   "metadata": {},
   "source": [
    "# Web Scraping Lab\n",
    "\n",
    "You will find in this notebook some scrapy exercises to practise your scraping skills.\n",
    "\n",
    "**Tips:**\n",
    "\n",
    "- Check the response status code for each request to ensure you have obtained the intended contennt.\n",
    "- Print the response text in each request to understand the kind of info you are getting and its format.\n",
    "- Check for patterns in the response text to extract the data/info requested in each question.\n",
    "- Visit each url and take a look at its source through Chrome DevTools. You'll need to identify the html tags, special class names etc. used for the html content you are expected to extract."
   ]
  },
  {
   "cell_type": "markdown",
   "metadata": {},
   "source": [
    "- [Requests library](http://docs.python-requests.org/en/master/#the-user-guide) documentation \n",
    "- [Beautiful Soup Doc](https://www.crummy.com/software/BeautifulSoup/bs4/doc/)\n",
    "- [Urllib](https://docs.python.org/3/library/urllib.html#module-urllib)\n",
    "- [re lib](https://docs.python.org/3/library/re.html)\n",
    "- [lxml lib](https://lxml.de/)\n",
    "- [Scrapy](https://scrapy.org/)\n",
    "- [List of HTTP status codes](https://en.wikipedia.org/wiki/List_of_HTTP_status_codes)\n",
    "- [HTML basics](http://www.simplehtmlguide.com/cheatsheet.php)\n",
    "- [CSS basics](https://www.cssbasics.com/#page_start)"
   ]
  },
  {
   "cell_type": "markdown",
   "metadata": {},
   "source": [
    "#### Below are the libraries and modules you may need. `requests`,  `BeautifulSoup` and `pandas` are imported for you. If you prefer to use additional libraries feel free to uncomment them."
   ]
  },
  {
   "cell_type": "code",
   "execution_count": 6,
   "metadata": {},
   "outputs": [],
   "source": [
    "import requests \n",
    "from bs4 import BeautifulSoup\n",
    "import pandas as pd\n",
    "# from pprint import pprint\n",
    "# from lxml import html\n",
    "# from lxml.html import fromstring\n",
    "# import urllib.request\n",
    "from urllib.request import urlopen\n",
    "# import random\n",
    "import re\n",
    "# import scrapy"
   ]
  },
  {
   "cell_type": "markdown",
   "metadata": {},
   "source": [
    "#### Download, parse (using BeautifulSoup), and print the content from the Trending Developers page from GitHub:"
   ]
  },
  {
   "cell_type": "code",
   "execution_count": 9,
   "metadata": {},
   "outputs": [],
   "source": [
    "# This is the url you will scrape in this exercise\n",
    "url = 'https://github.com/trending/developers'"
   ]
  },
  {
   "cell_type": "code",
   "execution_count": 80,
   "metadata": {},
   "outputs": [],
   "source": [
    "#your code\n",
    "res = requests.get(url)\n",
    "html = res.content\n",
    "soup = BeautifulSoup(html, 'html.parser')\n",
    "#soup\n"
   ]
  },
  {
   "cell_type": "markdown",
   "metadata": {},
   "source": [
    "#### Display the names of the trending developers retrieved in the previous step.\n",
    "\n",
    "Your output should be a Python list of developer names. Each name should not contain any html tag.\n",
    "\n",
    "**Instructions:**\n",
    "\n",
    "1. Find out the html tag and class names used for the developer names. You can achieve this using Chrome DevTools.\n",
    "\n",
    "1. Use BeautifulSoup to extract all the html elements that contain the developer names.\n",
    "\n",
    "1. Use string manipulation techniques to replace whitespaces and linebreaks (i.e. `\\n`) in the *text* of each html element. Use a list to store the clean names.\n",
    "\n",
    "1. Print the list of names.\n",
    "\n",
    "Your output should look like below:\n",
    "\n",
    "```\n",
    "['trimstray (@trimstray)',\n",
    " 'joewalnes (JoeWalnes)',\n",
    " 'charlax (Charles-AxelDein)',\n",
    " 'ForrestKnight (ForrestKnight)',\n",
    " 'revery-ui (revery-ui)',\n",
    " 'alibaba (Alibaba)',\n",
    " 'Microsoft (Microsoft)',\n",
    " 'github (GitHub)',\n",
    " 'facebook (Facebook)',\n",
    " 'boazsegev (Bo)',\n",
    " 'google (Google)',\n",
    " 'cloudfetch',\n",
    " 'sindresorhus (SindreSorhus)',\n",
    " 'tensorflow',\n",
    " 'apache (TheApacheSoftwareFoundation)',\n",
    " 'DevonCrawford (DevonCrawford)',\n",
    " 'ARMmbed (ArmMbed)',\n",
    " 'vuejs (vuejs)',\n",
    " 'fastai (fast.ai)',\n",
    " 'QiShaoXuan (Qi)',\n",
    " 'joelparkerhenderson (JoelParkerHenderson)',\n",
    " 'torvalds (LinusTorvalds)',\n",
    " 'CyC2018',\n",
    " 'komeiji-satori (神楽坂覚々)',\n",
    " 'script-8']\n",
    " ```"
   ]
  },
  {
   "cell_type": "code",
   "execution_count": 111,
   "metadata": {},
   "outputs": [],
   "source": [
    "#your code\n",
    "def scraping(url):\n",
    "    res = requests.get(url)\n",
    "    soup = BeautifulSoup(res.content, \"html.parser\")        \n",
    "    names_box = soup.find_all(\"article\", {\"class\": \"Box-row d-flex\"})\n",
    "    name = [i.find(\"h1\").getText().replace(\"\\n\", \"\") for i in names_box]\n",
    "    mote = [i.find(\"p\").getText().replace(\"\\n\", \"\").strip() for i in names_box]\n",
    "\n",
    "    return [name[i]+f\" ({mote[i]})\" for i in range(len (name))]\n"
   ]
  },
  {
   "cell_type": "code",
   "execution_count": 112,
   "metadata": {},
   "outputs": [
    {
     "data": {
      "text/plain": [
       "['            Olivier Halligon  (AliSoftware)',\n",
       " '            Alon Zakai  (kripken)',\n",
       " '            Ariel Mashraki  (a8m)',\n",
       " '            Azure SDK Bot  (azure-sdk)',\n",
       " '            Kieron Quinn  (KieronQuinn)',\n",
       " '            Jonny Burger  (JonnyBurger)',\n",
       " '            Ayush Chaurasia  (AyushExel)',\n",
       " '            Roberto Butti  (roberto-butti)',\n",
       " '            Costa Huang  (vwxyzjn)',\n",
       " '            Alessandro Ros  (aler9)',\n",
       " '            Kyle Barron  (kylebarron)',\n",
       " '            Nikita Sobolev  (sobolevn)',\n",
       " '            Meng Zhang  (wsxiaoys)',\n",
       " '            Alex Rudenko  (OrKoN)',\n",
       " '            Stanislas Polu  (spolu)',\n",
       " '            R.I.Pienaar  (ripienaar)',\n",
       " '            Lukas Masuch  (LukasMasuch)',\n",
       " '            Alex Yang  (himself65)',\n",
       " '            Wes Bos  (wesbos)',\n",
       " '            Rosalie Wagner  (RosaWagner)',\n",
       " '            Lovell Fuller  (lovell)',\n",
       " '            Erick Wendel  (ErickWendel)',\n",
       " '            Fatih Arslan  (fatih)',\n",
       " '            pngwn  (pngwn)',\n",
       " '            Matthew Feickert  (matthewfeickert)']"
      ]
     },
     "execution_count": 112,
     "metadata": {},
     "output_type": "execute_result"
    }
   ],
   "source": [
    "scraping('https://github.com/trending/developers')"
   ]
  },
  {
   "cell_type": "markdown",
   "metadata": {},
   "source": [
    "#### Display the trending Python repositories in GitHub\n",
    "\n",
    "The steps to solve this problem is similar to the previous one except that you need to find out the repository names instead of developer names."
   ]
  },
  {
   "cell_type": "code",
   "execution_count": null,
   "metadata": {},
   "outputs": [],
   "source": [
    "# This is the url you will scrape in this exercise\n",
    "url = 'https://github.com/trending/python?since=daily'"
   ]
  },
  {
   "cell_type": "code",
   "execution_count": 127,
   "metadata": {},
   "outputs": [],
   "source": [
    "#your code\n",
    "def repositories(url):\n",
    "    res = requests.get(url)\n",
    "    soup = BeautifulSoup(res.content, \"html.parser\")        \n",
    "    names_box = soup.find_all(\"article\", {\"class\": \"Box-row\"})\n",
    "    name = [i.find(\"h2\").getText().replace(\"\\n\", \"\").strip() for i in names_box]\n",
    "\n",
    "    return [name[i] for i in range(len (name))]\n"
   ]
  },
  {
   "cell_type": "code",
   "execution_count": 128,
   "metadata": {},
   "outputs": [
    {
     "data": {
      "text/plain": [
       "['public-apis /      public-apis',\n",
       " 'SUDO-AI-3D /      zero123plus',\n",
       " 's0md3v /      roop',\n",
       " 'xlang-ai /      OpenAgents',\n",
       " 'AI-Citizen /      SolidGPT',\n",
       " 'psf /      black',\n",
       " 'THUDM /      AgentTuning',\n",
       " 'bregman-arie /      devops-exercises',\n",
       " 'pyg-team /      pytorch_geometric',\n",
       " 'bytedance /      SALMONN',\n",
       " 'donnemartin /      system-design-primer',\n",
       " 'N1k0la-T /      CVE-2023-36745',\n",
       " 'firmai /      financial-machine-learning',\n",
       " 'w-okada /      voice-changer',\n",
       " 'horizon3ai /      CVE-2023-34051',\n",
       " 'kyleskom /      NBA-Machine-Learning-Sports-Betting',\n",
       " 'facebookresearch /      seamless_communication',\n",
       " 'LAION-AI /      Open-Assistant',\n",
       " 'danswer-ai /      danswer',\n",
       " 'XingangPan /      DragGAN',\n",
       " 'haotian-liu /      LLaVA',\n",
       " 'iterative /      dvc',\n",
       " 'mckinsey /      vizro',\n",
       " 'astral-sh /      ruff-pre-commit',\n",
       " 'eosphoros-ai /      DB-GPT']"
      ]
     },
     "execution_count": 128,
     "metadata": {},
     "output_type": "execute_result"
    }
   ],
   "source": [
    "repositories('https://github.com/trending/python?since=daily')"
   ]
  },
  {
   "cell_type": "markdown",
   "metadata": {},
   "source": [
    "#### Display all the image links from Walt Disney wikipedia page"
   ]
  },
  {
   "cell_type": "code",
   "execution_count": null,
   "metadata": {},
   "outputs": [],
   "source": [
    "# This is the url you will scrape in this exercise\n",
    "url = 'https://en.wikipedia.org/wiki/Walt_Disney'"
   ]
  },
  {
   "cell_type": "code",
   "execution_count": 146,
   "metadata": {},
   "outputs": [
    {
     "data": {
      "text/plain": [
       "[<a class=\"mw-file-description\" href=\"/wiki/File:Walt_Disney_1946.JPG\"><img class=\"mw-file-element\" data-file-height=\"675\" data-file-width=\"450\" decoding=\"async\" height=\"330\" src=\"//upload.wikimedia.org/wikipedia/commons/thumb/d/df/Walt_Disney_1946.JPG/220px-Walt_Disney_1946.JPG\" srcset=\"//upload.wikimedia.org/wikipedia/commons/thumb/d/df/Walt_Disney_1946.JPG/330px-Walt_Disney_1946.JPG 1.5x, //upload.wikimedia.org/wikipedia/commons/thumb/d/df/Walt_Disney_1946.JPG/440px-Walt_Disney_1946.JPG 2x\" width=\"220\"/></a>,\n",
       " <a class=\"mw-file-description\" href=\"/wiki/File:Walt_Disney_1942_signature.svg\"><img class=\"mw-file-element\" data-file-height=\"218\" data-file-width=\"585\" decoding=\"async\" height=\"56\" src=\"//upload.wikimedia.org/wikipedia/commons/thumb/8/87/Walt_Disney_1942_signature.svg/150px-Walt_Disney_1942_signature.svg.png\" srcset=\"//upload.wikimedia.org/wikipedia/commons/thumb/8/87/Walt_Disney_1942_signature.svg/225px-Walt_Disney_1942_signature.svg.png 1.5x, //upload.wikimedia.org/wikipedia/commons/thumb/8/87/Walt_Disney_1942_signature.svg/300px-Walt_Disney_1942_signature.svg.png 2x\" width=\"150\"/></a>,\n",
       " <a class=\"mw-file-description\" href=\"/wiki/File:Walt_Disney_Birthplace_Exterior_Hermosa_Chicago_Illinois.jpg\"><img alt=\"Pale yellow wooden house with brown trim surrounded by white picket fence\" class=\"mw-file-element\" data-file-height=\"1080\" data-file-width=\"1440\" decoding=\"async\" height=\"165\" src=\"//upload.wikimedia.org/wikipedia/commons/thumb/3/3a/Walt_Disney_Birthplace_Exterior_Hermosa_Chicago_Illinois.jpg/220px-Walt_Disney_Birthplace_Exterior_Hermosa_Chicago_Illinois.jpg\" srcset=\"//upload.wikimedia.org/wikipedia/commons/thumb/3/3a/Walt_Disney_Birthplace_Exterior_Hermosa_Chicago_Illinois.jpg/330px-Walt_Disney_Birthplace_Exterior_Hermosa_Chicago_Illinois.jpg 1.5x, //upload.wikimedia.org/wikipedia/commons/thumb/3/3a/Walt_Disney_Birthplace_Exterior_Hermosa_Chicago_Illinois.jpg/440px-Walt_Disney_Birthplace_Exterior_Hermosa_Chicago_Illinois.jpg 2x\" width=\"220\"/></a>,\n",
       " <a class=\"mw-file-description\" href=\"/wiki/File:Walt_Disney_envelope_ca._1921.jpg\"><img class=\"mw-file-element\" data-file-height=\"1086\" data-file-width=\"1576\" decoding=\"async\" height=\"152\" src=\"//upload.wikimedia.org/wikipedia/commons/thumb/c/c4/Walt_Disney_envelope_ca._1921.jpg/220px-Walt_Disney_envelope_ca._1921.jpg\" srcset=\"//upload.wikimedia.org/wikipedia/commons/thumb/c/c4/Walt_Disney_envelope_ca._1921.jpg/330px-Walt_Disney_envelope_ca._1921.jpg 1.5x, //upload.wikimedia.org/wikipedia/commons/thumb/c/c4/Walt_Disney_envelope_ca._1921.jpg/440px-Walt_Disney_envelope_ca._1921.jpg 2x\" width=\"220\"/></a>,\n",
       " <a class=\"mw-file-description\" href=\"/wiki/File:Steamboat-willie.jpg\"><img alt=\"A cartoon mouse is operating a ship's steering wheel\" class=\"mw-file-element\" data-file-height=\"267\" data-file-width=\"373\" decoding=\"async\" height=\"157\" src=\"//upload.wikimedia.org/wikipedia/en/thumb/4/4e/Steamboat-willie.jpg/220px-Steamboat-willie.jpg\" srcset=\"//upload.wikimedia.org/wikipedia/en/thumb/4/4e/Steamboat-willie.jpg/330px-Steamboat-willie.jpg 1.5x, //upload.wikimedia.org/wikipedia/en/4/4e/Steamboat-willie.jpg 2x\" width=\"220\"/></a>,\n",
       " <a class=\"mw-file-description\" href=\"/wiki/File:Walt_Disney_Snow_white_1937_trailer_screenshot_(13).jpg\"><img alt=\"Walt Disney sits in front of a set of models of the seven dwarfs\" class=\"mw-file-element\" data-file-height=\"388\" data-file-width=\"500\" decoding=\"async\" height=\"171\" src=\"//upload.wikimedia.org/wikipedia/commons/thumb/c/cd/Walt_Disney_Snow_white_1937_trailer_screenshot_%2813%29.jpg/220px-Walt_Disney_Snow_white_1937_trailer_screenshot_%2813%29.jpg\" srcset=\"//upload.wikimedia.org/wikipedia/commons/thumb/c/cd/Walt_Disney_Snow_white_1937_trailer_screenshot_%2813%29.jpg/330px-Walt_Disney_Snow_white_1937_trailer_screenshot_%2813%29.jpg 1.5x, //upload.wikimedia.org/wikipedia/commons/thumb/c/cd/Walt_Disney_Snow_white_1937_trailer_screenshot_%2813%29.jpg/440px-Walt_Disney_Snow_white_1937_trailer_screenshot_%2813%29.jpg 2x\" width=\"220\"/></a>,\n",
       " <a class=\"mw-file-description\" href=\"/wiki/File:Disney_drawing_goofy.jpg\"><img class=\"mw-file-element\" data-file-height=\"770\" data-file-width=\"600\" decoding=\"async\" height=\"218\" src=\"//upload.wikimedia.org/wikipedia/commons/thumb/1/15/Disney_drawing_goofy.jpg/170px-Disney_drawing_goofy.jpg\" srcset=\"//upload.wikimedia.org/wikipedia/commons/thumb/1/15/Disney_drawing_goofy.jpg/255px-Disney_drawing_goofy.jpg 1.5x, //upload.wikimedia.org/wikipedia/commons/thumb/1/15/Disney_drawing_goofy.jpg/340px-Disney_drawing_goofy.jpg 2x\" width=\"170\"/></a>,\n",
       " <a class=\"mw-file-description\" href=\"/wiki/File:WaltDisneyplansDisneylandDec1954.jpg\"><img class=\"mw-file-element\" data-file-height=\"2417\" data-file-width=\"2723\" decoding=\"async\" height=\"195\" src=\"//upload.wikimedia.org/wikipedia/commons/thumb/8/8c/WaltDisneyplansDisneylandDec1954.jpg/220px-WaltDisneyplansDisneylandDec1954.jpg\" srcset=\"//upload.wikimedia.org/wikipedia/commons/thumb/8/8c/WaltDisneyplansDisneylandDec1954.jpg/330px-WaltDisneyplansDisneylandDec1954.jpg 1.5x, //upload.wikimedia.org/wikipedia/commons/thumb/8/8c/WaltDisneyplansDisneylandDec1954.jpg/440px-WaltDisneyplansDisneylandDec1954.jpg 2x\" width=\"220\"/></a>,\n",
       " <a class=\"mw-file-description\" href=\"/wiki/File:Walt_disney_portrait_right.jpg\"><img class=\"mw-file-element\" data-file-height=\"902\" data-file-width=\"667\" decoding=\"async\" height=\"230\" src=\"//upload.wikimedia.org/wikipedia/commons/thumb/f/ff/Walt_disney_portrait_right.jpg/170px-Walt_disney_portrait_right.jpg\" srcset=\"//upload.wikimedia.org/wikipedia/commons/thumb/f/ff/Walt_disney_portrait_right.jpg/255px-Walt_disney_portrait_right.jpg 1.5x, //upload.wikimedia.org/wikipedia/commons/thumb/f/ff/Walt_disney_portrait_right.jpg/340px-Walt_disney_portrait_right.jpg 2x\" width=\"170\"/></a>,\n",
       " <a class=\"mw-file-description\" href=\"/wiki/File:Walt_Disney_Grave.JPG\"><img alt=\"A gravestone inscribed 'Walter Elias Disney', 'Lillian Bounds Disney', 'Robert B. Brown', Sharon Disney Brown Lund ashes scattered in paradise'\" class=\"mw-file-element\" data-file-height=\"1700\" data-file-width=\"1400\" decoding=\"async\" height=\"206\" src=\"//upload.wikimedia.org/wikipedia/commons/thumb/1/1a/Walt_Disney_Grave.JPG/170px-Walt_Disney_Grave.JPG\" srcset=\"//upload.wikimedia.org/wikipedia/commons/thumb/1/1a/Walt_Disney_Grave.JPG/255px-Walt_Disney_Grave.JPG 1.5x, //upload.wikimedia.org/wikipedia/commons/thumb/1/1a/Walt_Disney_Grave.JPG/340px-Walt_Disney_Grave.JPG 2x\" width=\"170\"/></a>,\n",
       " <a class=\"mw-file-description\" href=\"/wiki/File:DisneySchiphol1951.jpg\"><img class=\"mw-file-element\" data-file-height=\"2493\" data-file-width=\"3247\" decoding=\"async\" height=\"169\" src=\"//upload.wikimedia.org/wikipedia/commons/thumb/1/13/DisneySchiphol1951.jpg/220px-DisneySchiphol1951.jpg\" srcset=\"//upload.wikimedia.org/wikipedia/commons/thumb/1/13/DisneySchiphol1951.jpg/330px-DisneySchiphol1951.jpg 1.5x, //upload.wikimedia.org/wikipedia/commons/thumb/1/13/DisneySchiphol1951.jpg/440px-DisneySchiphol1951.jpg 2x\" width=\"220\"/></a>,\n",
       " <a class=\"mw-file-description\" href=\"/wiki/File:Disney1968.jpg\"><img alt=\"A portrait of Disney with cartoon representations of different nationalities on a 6 cent US stamp\" class=\"mw-file-element\" data-file-height=\"736\" data-file-width=\"483\" decoding=\"async\" height=\"259\" src=\"//upload.wikimedia.org/wikipedia/commons/thumb/6/6c/Disney1968.jpg/170px-Disney1968.jpg\" srcset=\"//upload.wikimedia.org/wikipedia/commons/thumb/6/6c/Disney1968.jpg/255px-Disney1968.jpg 1.5x, //upload.wikimedia.org/wikipedia/commons/thumb/6/6c/Disney1968.jpg/340px-Disney1968.jpg 2x\" width=\"170\"/></a>,\n",
       " <a class=\"mw-file-description\" href=\"/wiki/File:Disney_Oscar_1953_(cropped).jpg\"><img alt=\"A black and white photograph of Walt Disney standing, holding an Academy Award.\" class=\"mw-file-element\" data-file-height=\"1214\" data-file-width=\"841\" decoding=\"async\" height=\"245\" src=\"//upload.wikimedia.org/wikipedia/commons/thumb/b/b0/Disney_Oscar_1953_%28cropped%29.jpg/170px-Disney_Oscar_1953_%28cropped%29.jpg\" srcset=\"//upload.wikimedia.org/wikipedia/commons/thumb/b/b0/Disney_Oscar_1953_%28cropped%29.jpg/255px-Disney_Oscar_1953_%28cropped%29.jpg 1.5x, //upload.wikimedia.org/wikipedia/commons/thumb/b/b0/Disney_Oscar_1953_%28cropped%29.jpg/340px-Disney_Oscar_1953_%28cropped%29.jpg 2x\" width=\"170\"/></a>,\n",
       " <a class=\"mw-file-description\" href=\"/wiki/File:Disneyland_Resort_logo.svg\"><img class=\"mw-file-element\" data-file-height=\"66\" data-file-width=\"267\" decoding=\"async\" height=\"33\" src=\"//upload.wikimedia.org/wikipedia/commons/thumb/e/e3/Disneyland_Resort_logo.svg/135px-Disneyland_Resort_logo.svg.png\" srcset=\"//upload.wikimedia.org/wikipedia/commons/thumb/e/e3/Disneyland_Resort_logo.svg/203px-Disneyland_Resort_logo.svg.png 1.5x, //upload.wikimedia.org/wikipedia/commons/thumb/e/e3/Disneyland_Resort_logo.svg/270px-Disneyland_Resort_logo.svg.png 2x\" width=\"135\"/></a>,\n",
       " <a class=\"mw-file-description\" href=\"/wiki/File:Animation_disc.svg\"><img alt=\"icon\" class=\"mw-file-element\" data-file-height=\"28\" data-file-width=\"30\" decoding=\"async\" height=\"19\" src=\"//upload.wikimedia.org/wikipedia/commons/thumb/d/da/Animation_disc.svg/20px-Animation_disc.svg.png\" srcset=\"//upload.wikimedia.org/wikipedia/commons/thumb/d/da/Animation_disc.svg/31px-Animation_disc.svg.png 1.5x, //upload.wikimedia.org/wikipedia/commons/thumb/d/da/Animation_disc.svg/41px-Animation_disc.svg.png 2x\" width=\"20\"/></a>,\n",
       " <a class=\"mw-file-description\" href=\"/wiki/File:Magic_Kingdom_castle.jpg\"><img alt=\"icon\" class=\"mw-file-element\" data-file-height=\"1545\" data-file-width=\"1262\" decoding=\"async\" height=\"19\" src=\"//upload.wikimedia.org/wikipedia/commons/thumb/1/1a/Magic_Kingdom_castle.jpg/15px-Magic_Kingdom_castle.jpg\" srcset=\"//upload.wikimedia.org/wikipedia/commons/thumb/1/1a/Magic_Kingdom_castle.jpg/24px-Magic_Kingdom_castle.jpg 1.5x, //upload.wikimedia.org/wikipedia/commons/thumb/1/1a/Magic_Kingdom_castle.jpg/31px-Magic_Kingdom_castle.jpg 2x\" width=\"15\"/></a>,\n",
       " <a class=\"mw-file-description\" href=\"/wiki/File:Blank_television_set.svg\"><img alt=\"icon\" class=\"mw-file-element\" data-file-height=\"92\" data-file-width=\"138\" decoding=\"async\" height=\"14\" src=\"//upload.wikimedia.org/wikipedia/commons/thumb/8/8c/Blank_television_set.svg/21px-Blank_television_set.svg.png\" srcset=\"//upload.wikimedia.org/wikipedia/commons/thumb/8/8c/Blank_television_set.svg/32px-Blank_television_set.svg.png 1.5x, //upload.wikimedia.org/wikipedia/commons/thumb/8/8c/Blank_television_set.svg/42px-Blank_television_set.svg.png 2x\" width=\"21\"/></a>]"
      ]
     },
     "execution_count": 146,
     "metadata": {},
     "output_type": "execute_result"
    }
   ],
   "source": [
    "res = requests.get('https://en.wikipedia.org/wiki/Walt_Disney')\n",
    "soup = BeautifulSoup(res.content, \"html.parser\")        \n",
    "names_box = soup.find_all(\"a\",{\"class\": \"mw-file-description\"})\n",
    "names_box"
   ]
  },
  {
   "cell_type": "code",
   "execution_count": 155,
   "metadata": {},
   "outputs": [],
   "source": [
    "def pictures(url):\n",
    "    res = requests.get(url)\n",
    "    soup = BeautifulSoup(res.content, \"html.parser\")        \n",
    "    names_box = soup.find_all(\"a\", {\"class\": \"mw-file-description\"})\n",
    "    name = [\"https://en.wikipedia.org/wiki/Walt_Disney#\"+i.get(\"href\").replace(\"wiki\", \"media\") for i in names_box]\n",
    "\n",
    "    return [name[i] for i in range(len (name))]"
   ]
  },
  {
   "cell_type": "code",
   "execution_count": 156,
   "metadata": {},
   "outputs": [
    {
     "data": {
      "text/plain": [
       "['https://en.wikipedia.org/wiki/Walt_Disney#/media/File:Walt_Disney_1946.JPG',\n",
       " 'https://en.wikipedia.org/wiki/Walt_Disney#/media/File:Walt_Disney_1942_signature.svg',\n",
       " 'https://en.wikipedia.org/wiki/Walt_Disney#/media/File:Walt_Disney_Birthplace_Exterior_Hermosa_Chicago_Illinois.jpg',\n",
       " 'https://en.wikipedia.org/wiki/Walt_Disney#/media/File:Walt_Disney_envelope_ca._1921.jpg',\n",
       " 'https://en.wikipedia.org/wiki/Walt_Disney#/media/File:Steamboat-willie.jpg',\n",
       " 'https://en.wikipedia.org/wiki/Walt_Disney#/media/File:Walt_Disney_Snow_white_1937_trailer_screenshot_(13).jpg',\n",
       " 'https://en.wikipedia.org/wiki/Walt_Disney#/media/File:Disney_drawing_goofy.jpg',\n",
       " 'https://en.wikipedia.org/wiki/Walt_Disney#/media/File:WaltDisneyplansDisneylandDec1954.jpg',\n",
       " 'https://en.wikipedia.org/wiki/Walt_Disney#/media/File:Walt_disney_portrait_right.jpg',\n",
       " 'https://en.wikipedia.org/wiki/Walt_Disney#/media/File:Walt_Disney_Grave.JPG',\n",
       " 'https://en.wikipedia.org/wiki/Walt_Disney#/media/File:DisneySchiphol1951.jpg',\n",
       " 'https://en.wikipedia.org/wiki/Walt_Disney#/media/File:Disney1968.jpg',\n",
       " 'https://en.wikipedia.org/wiki/Walt_Disney#/media/File:Disney_Oscar_1953_(cropped).jpg',\n",
       " 'https://en.wikipedia.org/wiki/Walt_Disney#/media/File:Disneyland_Resort_logo.svg',\n",
       " 'https://en.wikipedia.org/wiki/Walt_Disney#/media/File:Animation_disc.svg',\n",
       " 'https://en.wikipedia.org/wiki/Walt_Disney#/media/File:Magic_Kingdom_castle.jpg',\n",
       " 'https://en.wikipedia.org/wiki/Walt_Disney#/media/File:Blank_television_set.svg']"
      ]
     },
     "execution_count": 156,
     "metadata": {},
     "output_type": "execute_result"
    }
   ],
   "source": [
    "pictures('https://en.wikipedia.org/wiki/Walt_Disney')"
   ]
  },
  {
   "cell_type": "markdown",
   "metadata": {},
   "source": [
    "#### Retrieve an arbitary Wikipedia page of \"Python\" and create a list of links on that page"
   ]
  },
  {
   "cell_type": "code",
   "execution_count": null,
   "metadata": {},
   "outputs": [],
   "source": [
    "# This is the url you will scrape in this exercise\n",
    "url ='https://en.wikipedia.org/wiki/Python' "
   ]
  },
  {
   "cell_type": "code",
   "execution_count": 168,
   "metadata": {},
   "outputs": [],
   "source": [
    "#your code\n",
    "def python_links(url):\n",
    "    res = requests.get(url)\n",
    "    soup = BeautifulSoup(res.content, \"html.parser\")        \n",
    "    names_box = soup.find_all(\"a\")\n",
    "    name = [i.get(\"href\") for i in names_box]\n",
    "    complete_links = [\"https://www.wikidata.org\"+i for i in name if \"http\" not in i]\n",
    "\n",
    "    return [complete_links[i] for i in range(len (complete_links))]\n"
   ]
  },
  {
   "cell_type": "code",
   "execution_count": 169,
   "metadata": {},
   "outputs": [
    {
     "data": {
      "text/plain": [
       "['https://www.wikidata.org#bodyContent',\n",
       " 'https://www.wikidata.org/wiki/Main_Page',\n",
       " 'https://www.wikidata.org/wiki/Wikipedia:Contents',\n",
       " 'https://www.wikidata.org/wiki/Portal:Current_events',\n",
       " 'https://www.wikidata.org/wiki/Special:Random',\n",
       " 'https://www.wikidata.org/wiki/Wikipedia:About',\n",
       " 'https://www.wikidata.org//en.wikipedia.org/wiki/Wikipedia:Contact_us',\n",
       " 'https://www.wikidata.org/wiki/Help:Contents',\n",
       " 'https://www.wikidata.org/wiki/Help:Introduction',\n",
       " 'https://www.wikidata.org/wiki/Wikipedia:Community_portal',\n",
       " 'https://www.wikidata.org/wiki/Special:RecentChanges',\n",
       " 'https://www.wikidata.org/wiki/Wikipedia:File_upload_wizard',\n",
       " 'https://www.wikidata.org/wiki/Main_Page',\n",
       " 'https://www.wikidata.org/wiki/Special:Search',\n",
       " 'https://www.wikidata.org/w/index.php?title=Special:CreateAccount&returnto=Python+of+Aenus',\n",
       " 'https://www.wikidata.org/w/index.php?title=Special:UserLogin&returnto=Python+of+Aenus',\n",
       " 'https://www.wikidata.org/w/index.php?title=Special:CreateAccount&returnto=Python+of+Aenus',\n",
       " 'https://www.wikidata.org/w/index.php?title=Special:UserLogin&returnto=Python+of+Aenus',\n",
       " 'https://www.wikidata.org/wiki/Help:Introduction',\n",
       " 'https://www.wikidata.org/wiki/Special:MyContributions',\n",
       " 'https://www.wikidata.org/wiki/Special:MyTalk',\n",
       " 'https://www.wikidata.org#',\n",
       " 'https://www.wikidata.org#References',\n",
       " 'https://www.wikidata.org/wiki/Python_of_Aenus',\n",
       " 'https://www.wikidata.org/wiki/Talk:Python_of_Aenus',\n",
       " 'https://www.wikidata.org/wiki/Python_of_Aenus',\n",
       " 'https://www.wikidata.org/w/index.php?title=Python_of_Aenus&action=edit',\n",
       " 'https://www.wikidata.org/w/index.php?title=Python_of_Aenus&action=history',\n",
       " 'https://www.wikidata.org/wiki/Python_of_Aenus',\n",
       " 'https://www.wikidata.org/w/index.php?title=Python_of_Aenus&action=edit',\n",
       " 'https://www.wikidata.org/w/index.php?title=Python_of_Aenus&action=history',\n",
       " 'https://www.wikidata.org/wiki/Special:WhatLinksHere/Python_of_Aenus',\n",
       " 'https://www.wikidata.org/wiki/Special:RecentChangesLinked/Python_of_Aenus',\n",
       " 'https://www.wikidata.org/wiki/Wikipedia:File_Upload_Wizard',\n",
       " 'https://www.wikidata.org/wiki/Special:SpecialPages',\n",
       " 'https://www.wikidata.org/w/index.php?title=Python_of_Aenus&oldid=1163076599',\n",
       " 'https://www.wikidata.org/w/index.php?title=Python_of_Aenus&action=info',\n",
       " 'https://www.wikidata.org/w/index.php?title=Special:CiteThisPage&page=Python_of_Aenus&id=1163076599&wpFormIdentifier=titleform',\n",
       " 'https://www.wikidata.org/w/index.php?title=Special:DownloadAsPdf&page=Python_of_Aenus&action=show-download-screen',\n",
       " 'https://www.wikidata.org/w/index.php?title=Python_of_Aenus&printable=yes',\n",
       " 'https://www.wikidata.org/wiki/Python_(disambiguation)',\n",
       " 'https://www.wikidata.org/wiki/Enez',\n",
       " 'https://www.wikidata.org/wiki/Help:IPA/English',\n",
       " 'https://www.wikidata.org/wiki/Greek_language',\n",
       " 'https://www.wikidata.org/wiki/Greek_philosophy',\n",
       " 'https://www.wikidata.org/wiki/Plato',\n",
       " 'https://www.wikidata.org#cite_note-1',\n",
       " 'https://www.wikidata.org/wiki/Heraclides_of_Aenus',\n",
       " 'https://www.wikidata.org/wiki/Cotys_I_(Odrysian)',\n",
       " 'https://www.wikidata.org/wiki/Thrace',\n",
       " 'https://www.wikidata.org#cite_note-2',\n",
       " 'https://www.wikidata.org/wiki/Demosthenes',\n",
       " 'https://www.wikidata.org/wiki/Python_of_Byzantium',\n",
       " 'https://www.wikidata.org#cite_note-3',\n",
       " 'https://www.wikidata.org/w/index.php?title=Python_of_Aenus&action=edit&section=1',\n",
       " 'https://www.wikidata.org#cite_ref-1',\n",
       " 'https://www.wikidata.org/wiki/Diogenes_La%C3%ABrtius',\n",
       " 'https://www.wikidata.org#cite_ref-2',\n",
       " 'https://www.wikidata.org/wiki/Aristotle',\n",
       " 'https://www.wikidata.org/wiki/Plutarch',\n",
       " 'https://www.wikidata.org#cite_ref-3',\n",
       " 'https://www.wikidata.org/wiki/ISBN_(identifier)',\n",
       " 'https://www.wikidata.org/wiki/Special:BookSources/3-515-08396-0',\n",
       " 'https://www.wikidata.org/wiki/File:Socrates_thumb.png',\n",
       " 'https://www.wikidata.org/wiki/Ancient_Greece',\n",
       " 'https://www.wikidata.org/wiki/Wikipedia:Stub',\n",
       " 'https://www.wikidata.org/wiki/Template:AncientGreece-philosopher-stub',\n",
       " 'https://www.wikidata.org/wiki/Template_talk:AncientGreece-philosopher-stub',\n",
       " 'https://www.wikidata.org/wiki/Special:EditPage/Template:AncientGreece-philosopher-stub',\n",
       " 'https://www.wikidata.org/wiki/Help:Category',\n",
       " 'https://www.wikidata.org/wiki/Category:4th-century_BC_Greek_philosophers',\n",
       " 'https://www.wikidata.org/wiki/Category:Ancient_Thracian_Greeks',\n",
       " 'https://www.wikidata.org/wiki/Category:Students_of_Plato',\n",
       " 'https://www.wikidata.org/wiki/Category:Greek_philosopher_stubs',\n",
       " 'https://www.wikidata.org/wiki/Category:Ancient_Greek_people_stubs',\n",
       " 'https://www.wikidata.org/wiki/Category:Articles_containing_Greek-language_text',\n",
       " 'https://www.wikidata.org/wiki/Category:All_stub_articles',\n",
       " 'https://www.wikidata.org//en.wikipedia.org/wiki/Wikipedia:Text_of_the_Creative_Commons_Attribution-ShareAlike_4.0_International_License',\n",
       " 'https://www.wikidata.org//en.wikipedia.org/wiki/Wikipedia:Text_of_the_Creative_Commons_Attribution-ShareAlike_4.0_International_License',\n",
       " 'https://www.wikidata.org//foundation.wikimedia.org/wiki/Terms_of_Use',\n",
       " 'https://www.wikidata.org//foundation.wikimedia.org/wiki/Privacy_policy',\n",
       " 'https://www.wikidata.org//www.wikimediafoundation.org/',\n",
       " 'https://www.wikidata.org/wiki/Wikipedia:About',\n",
       " 'https://www.wikidata.org/wiki/Wikipedia:General_disclaimer',\n",
       " 'https://www.wikidata.org//en.wikipedia.org/wiki/Wikipedia:Contact_us',\n",
       " 'https://www.wikidata.org//en.m.wikipedia.org/w/index.php?title=Python_of_Aenus&mobileaction=toggle_view_mobile']"
      ]
     },
     "execution_count": 169,
     "metadata": {},
     "output_type": "execute_result"
    }
   ],
   "source": [
    "python_links(\"https://en.wikipedia.org/wiki/Python_of_Aenus\")"
   ]
  },
  {
   "cell_type": "markdown",
   "metadata": {},
   "source": [
    "#### Number of Titles that have changed in the United States Code since its last release point "
   ]
  },
  {
   "cell_type": "code",
   "execution_count": null,
   "metadata": {},
   "outputs": [],
   "source": [
    "# This is the url you will scrape in this exercise\n",
    "url = 'http://uscode.house.gov/download/download.shtml'"
   ]
  },
  {
   "cell_type": "code",
   "execution_count": null,
   "metadata": {},
   "outputs": [],
   "source": [
    "#your code\n"
   ]
  },
  {
   "cell_type": "code",
   "execution_count": null,
   "metadata": {},
   "outputs": [],
   "source": []
  },
  {
   "cell_type": "markdown",
   "metadata": {},
   "source": [
    "####  20 latest earthquakes info (date, time, latitude, longitude and region name) by the EMSC as a pandas dataframe"
   ]
  },
  {
   "cell_type": "code",
   "execution_count": null,
   "metadata": {},
   "outputs": [],
   "source": [
    "# This is the url you will scrape in this exercise\n",
    "url = 'https://www.emsc-csem.org/Earthquake/'"
   ]
  },
  {
   "cell_type": "code",
   "execution_count": null,
   "metadata": {},
   "outputs": [],
   "source": [
    "#your code\n"
   ]
  },
  {
   "cell_type": "code",
   "execution_count": null,
   "metadata": {},
   "outputs": [],
   "source": []
  },
  {
   "cell_type": "markdown",
   "metadata": {},
   "source": [
    "### BONUS QUESTIONS"
   ]
  },
  {
   "cell_type": "markdown",
   "metadata": {},
   "source": [
    "#### Display the date, days, title, city, country of next 25 hackathon events as a Pandas dataframe table"
   ]
  },
  {
   "cell_type": "code",
   "execution_count": null,
   "metadata": {},
   "outputs": [],
   "source": [
    "# This is the url you will scrape in this exercise\n",
    "url ='https://hackevents.co/hackathons'\n",
    "url_hack = 'https://hackevents.co/search/anything/anywhere/anytime' "
   ]
  },
  {
   "cell_type": "code",
   "execution_count": null,
   "metadata": {},
   "outputs": [],
   "source": [
    "#your code\n"
   ]
  },
  {
   "cell_type": "code",
   "execution_count": null,
   "metadata": {},
   "outputs": [],
   "source": []
  },
  {
   "cell_type": "markdown",
   "metadata": {},
   "source": [
    "#### List all language names and number of related articles in the order they appear in wikipedia.org"
   ]
  },
  {
   "cell_type": "code",
   "execution_count": null,
   "metadata": {},
   "outputs": [],
   "source": [
    "# This is the url you will scrape in this exercise\n",
    "url = 'https://www.wikipedia.org/'"
   ]
  },
  {
   "cell_type": "code",
   "execution_count": null,
   "metadata": {},
   "outputs": [],
   "source": [
    "#your code\n"
   ]
  },
  {
   "cell_type": "code",
   "execution_count": null,
   "metadata": {},
   "outputs": [],
   "source": []
  },
  {
   "cell_type": "markdown",
   "metadata": {},
   "source": [
    "#### A list with the different kind of datasets available in data.gov.uk "
   ]
  },
  {
   "cell_type": "code",
   "execution_count": null,
   "metadata": {},
   "outputs": [],
   "source": [
    "# This is the url you will scrape in this exercise\n",
    "url = 'https://data.gov.uk/'"
   ]
  },
  {
   "cell_type": "code",
   "execution_count": null,
   "metadata": {},
   "outputs": [],
   "source": [
    "#your code \n"
   ]
  },
  {
   "cell_type": "code",
   "execution_count": null,
   "metadata": {},
   "outputs": [],
   "source": []
  },
  {
   "cell_type": "markdown",
   "metadata": {},
   "source": [
    "#### Top 10 languages by number of native speakers stored in a Pandas Dataframe"
   ]
  },
  {
   "cell_type": "code",
   "execution_count": null,
   "metadata": {},
   "outputs": [],
   "source": [
    "# This is the url you will scrape in this exercise\n",
    "url = 'https://en.wikipedia.org/wiki/List_of_languages_by_number_of_native_speakers'"
   ]
  },
  {
   "cell_type": "code",
   "execution_count": null,
   "metadata": {},
   "outputs": [],
   "source": [
    "#your code\n"
   ]
  },
  {
   "cell_type": "code",
   "execution_count": null,
   "metadata": {},
   "outputs": [],
   "source": []
  },
  {
   "cell_type": "markdown",
   "metadata": {},
   "source": [
    "#### IMDB's Top 250 data (movie name, Initial release, director name and stars) as a pandas dataframe"
   ]
  },
  {
   "cell_type": "code",
   "execution_count": null,
   "metadata": {},
   "outputs": [],
   "source": [
    "# This is the url you will scrape in this exercise \n",
    "url = 'https://www.imdb.com/chart/top'"
   ]
  },
  {
   "cell_type": "code",
   "execution_count": null,
   "metadata": {},
   "outputs": [],
   "source": [
    "# your code\n"
   ]
  },
  {
   "cell_type": "code",
   "execution_count": null,
   "metadata": {},
   "outputs": [],
   "source": []
  },
  {
   "cell_type": "code",
   "execution_count": null,
   "metadata": {},
   "outputs": [],
   "source": []
  }
 ],
 "metadata": {
  "kernelspec": {
   "display_name": "Python 3 (ipykernel)",
   "language": "python",
   "name": "python3"
  },
  "language_info": {
   "codemirror_mode": {
    "name": "ipython",
    "version": 3
   },
   "file_extension": ".py",
   "mimetype": "text/x-python",
   "name": "python",
   "nbconvert_exporter": "python",
   "pygments_lexer": "ipython3",
   "version": "3.11.5"
  },
  "toc": {
   "base_numbering": 1,
   "nav_menu": {},
   "number_sections": false,
   "sideBar": true,
   "skip_h1_title": false,
   "title_cell": "Table of Contents",
   "title_sidebar": "Contents",
   "toc_cell": false,
   "toc_position": {
    "height": "calc(100% - 180px)",
    "left": "10px",
    "top": "150px",
    "width": "288px"
   },
   "toc_section_display": true,
   "toc_window_display": false
  }
 },
 "nbformat": 4,
 "nbformat_minor": 2
}
